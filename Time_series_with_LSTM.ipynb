{
  "nbformat": 4,
  "nbformat_minor": 0,
  "metadata": {
    "colab": {
      "name": "Time series with LSTM.ipynb",
      "provenance": [],
      "mount_file_id": "1tWR7UngQi7PEbYJ9wc_688N_klGWZboC",
      "authorship_tag": "ABX9TyMqDAwTzK1Z2AVEHEmaZXQL",
      "include_colab_link": true
    },
    "kernelspec": {
      "name": "python3",
      "display_name": "Python 3"
    },
    "accelerator": "GPU"
  },
  "cells": [
    {
      "cell_type": "markdown",
      "metadata": {
        "id": "view-in-github",
        "colab_type": "text"
      },
      "source": [
        "<a href=\"https://colab.research.google.com/github/haythemtellili/Great-notebook/blob/master/Time_series_with_LSTM.ipynb\" target=\"_parent\"><img src=\"https://colab.research.google.com/assets/colab-badge.svg\" alt=\"Open In Colab\"/></a>"
      ]
    },
    {
      "cell_type": "markdown",
      "metadata": {
        "id": "OOHTbsRBfZu7",
        "colab_type": "text"
      },
      "source": [
        "# Usefull sources:\n",
        "[ARIMA/PROPHET](https://www.digitalocean.com/community/tutorials/a-guide-to-time-series-forecasting-with-arima-in-python-3)\n",
        "\n",
        "[Stats and theorical part](https://www.youtube.com/watch?v=DeORzP0go5I&list=PLvcbYUQ5t0UHOLnBzl46_Q6QKtFgfMGc3&index=1)"
      ]
    },
    {
      "cell_type": "markdown",
      "metadata": {
        "id": "WAqQbxDzLlLX",
        "colab_type": "text"
      },
      "source": [
        "# LSTM Model"
      ]
    },
    {
      "cell_type": "code",
      "metadata": {
        "id": "KrJV-QSxBnMI",
        "colab_type": "code",
        "colab": {
          "base_uri": "https://localhost:8080/",
          "height": 81
        },
        "outputId": "1c31ee78-3d39-4449-c106-f4c7f12942bd"
      },
      "source": [
        "import numpy as np\n",
        "import pandas as pd\n",
        "import matplotlib.pyplot as plt\n",
        "%matplotlib inline\n",
        "from statsmodels.tools.eval_measures import rmse\n",
        "from sklearn.preprocessing import MinMaxScaler\n",
        "from keras.preprocessing.sequence import TimeseriesGenerator\n",
        "from keras.models import Sequential\n",
        "from keras.layers import Dense\n",
        "from keras.layers import LSTM\n",
        "from keras.layers import Dropout"
      ],
      "execution_count": 1,
      "outputs": [
        {
          "output_type": "stream",
          "text": [
            "Using TensorFlow backend.\n"
          ],
          "name": "stderr"
        },
        {
          "output_type": "display_data",
          "data": {
            "text/html": [
              "<p style=\"color: red;\">\n",
              "The default version of TensorFlow in Colab will soon switch to TensorFlow 2.x.<br>\n",
              "We recommend you <a href=\"https://www.tensorflow.org/guide/migrate\" target=\"_blank\">upgrade</a> now \n",
              "or ensure your notebook will continue to use TensorFlow 1.x via the <code>%tensorflow_version 1.x</code> magic:\n",
              "<a href=\"https://colab.research.google.com/notebooks/tensorflow_version.ipynb\" target=\"_blank\">more info</a>.</p>\n"
            ],
            "text/plain": [
              "<IPython.core.display.HTML object>"
            ]
          },
          "metadata": {
            "tags": []
          }
        }
      ]
    },
    {
      "cell_type": "code",
      "metadata": {
        "id": "DEFidDG5uR1g",
        "colab_type": "code",
        "outputId": "6c2e8107-7b0a-4427-87c5-29d2b73276e5",
        "colab": {
          "base_uri": "https://localhost:8080/",
          "height": 206
        }
      },
      "source": [
        "df = pd.read_csv('/content/AirPassengers.csv')\n",
        "df.head()"
      ],
      "execution_count": 2,
      "outputs": [
        {
          "output_type": "execute_result",
          "data": {
            "text/html": [
              "<div>\n",
              "<style scoped>\n",
              "    .dataframe tbody tr th:only-of-type {\n",
              "        vertical-align: middle;\n",
              "    }\n",
              "\n",
              "    .dataframe tbody tr th {\n",
              "        vertical-align: top;\n",
              "    }\n",
              "\n",
              "    .dataframe thead th {\n",
              "        text-align: right;\n",
              "    }\n",
              "</style>\n",
              "<table border=\"1\" class=\"dataframe\">\n",
              "  <thead>\n",
              "    <tr style=\"text-align: right;\">\n",
              "      <th></th>\n",
              "      <th>Month</th>\n",
              "      <th>AirPassengers</th>\n",
              "    </tr>\n",
              "  </thead>\n",
              "  <tbody>\n",
              "    <tr>\n",
              "      <th>0</th>\n",
              "      <td>1949-01</td>\n",
              "      <td>112</td>\n",
              "    </tr>\n",
              "    <tr>\n",
              "      <th>1</th>\n",
              "      <td>1949-02</td>\n",
              "      <td>118</td>\n",
              "    </tr>\n",
              "    <tr>\n",
              "      <th>2</th>\n",
              "      <td>1949-03</td>\n",
              "      <td>132</td>\n",
              "    </tr>\n",
              "    <tr>\n",
              "      <th>3</th>\n",
              "      <td>1949-04</td>\n",
              "      <td>129</td>\n",
              "    </tr>\n",
              "    <tr>\n",
              "      <th>4</th>\n",
              "      <td>1949-05</td>\n",
              "      <td>121</td>\n",
              "    </tr>\n",
              "  </tbody>\n",
              "</table>\n",
              "</div>"
            ],
            "text/plain": [
              "     Month  AirPassengers\n",
              "0  1949-01            112\n",
              "1  1949-02            118\n",
              "2  1949-03            132\n",
              "3  1949-04            129\n",
              "4  1949-05            121"
            ]
          },
          "metadata": {
            "tags": []
          },
          "execution_count": 2
        }
      ]
    },
    {
      "cell_type": "code",
      "metadata": {
        "id": "l_wlEh55uRzQ",
        "colab_type": "code",
        "colab": {}
      },
      "source": [
        "df.Month = pd.to_datetime(df.Month)\n",
        "df = df.set_index(\"Month\")"
      ],
      "execution_count": 0,
      "outputs": []
    },
    {
      "cell_type": "code",
      "metadata": {
        "id": "ADkCmpWeuRxN",
        "colab_type": "code",
        "outputId": "6f19f937-0897-42b2-b19e-48bf25bb23e0",
        "colab": {
          "base_uri": "https://localhost:8080/",
          "height": 34
        }
      },
      "source": [
        "df.shape"
      ],
      "execution_count": 4,
      "outputs": [
        {
          "output_type": "execute_result",
          "data": {
            "text/plain": [
              "(144, 1)"
            ]
          },
          "metadata": {
            "tags": []
          },
          "execution_count": 4
        }
      ]
    },
    {
      "cell_type": "code",
      "metadata": {
        "id": "omarHgqmuRur",
        "colab_type": "code",
        "colab": {}
      },
      "source": [
        "train, test = df[:-12], df[-12:]"
      ],
      "execution_count": 0,
      "outputs": []
    },
    {
      "cell_type": "code",
      "metadata": {
        "id": "_LFFOPIhuRrL",
        "colab_type": "code",
        "colab": {}
      },
      "source": [
        "scaler = MinMaxScaler()\n",
        "scaler.fit(train)\n",
        "train = scaler.transform(train)\n",
        "test = scaler.transform(test)"
      ],
      "execution_count": 0,
      "outputs": []
    },
    {
      "cell_type": "code",
      "metadata": {
        "id": "Cf_Wig5RvCkk",
        "colab_type": "code",
        "colab": {}
      },
      "source": [
        "n_input = 12\n",
        "n_features = 1\n",
        "generator = TimeseriesGenerator(train, train, length=n_input, batch_size=6)"
      ],
      "execution_count": 0,
      "outputs": []
    },
    {
      "cell_type": "code",
      "metadata": {
        "id": "3fIdbhYG2daX",
        "colab_type": "code",
        "outputId": "60c12f3e-7f2e-4159-dc50-6faa3cab181d",
        "colab": {
          "base_uri": "https://localhost:8080/",
          "height": 263
        }
      },
      "source": [
        "model = Sequential()\n",
        "model.add(LSTM(200, activation='relu', input_shape=(n_input, n_features)))\n",
        "model.add(Dropout(0.15))\n",
        "model.add(Dense(1))\n",
        "model.compile(optimizer='adam', loss='mse')"
      ],
      "execution_count": 0,
      "outputs": [
        {
          "output_type": "stream",
          "text": [
            "WARNING:tensorflow:From /usr/local/lib/python3.6/dist-packages/keras/backend/tensorflow_backend.py:66: The name tf.get_default_graph is deprecated. Please use tf.compat.v1.get_default_graph instead.\n",
            "\n",
            "WARNING:tensorflow:From /usr/local/lib/python3.6/dist-packages/keras/backend/tensorflow_backend.py:541: The name tf.placeholder is deprecated. Please use tf.compat.v1.placeholder instead.\n",
            "\n",
            "WARNING:tensorflow:From /usr/local/lib/python3.6/dist-packages/keras/backend/tensorflow_backend.py:4432: The name tf.random_uniform is deprecated. Please use tf.random.uniform instead.\n",
            "\n",
            "WARNING:tensorflow:From /usr/local/lib/python3.6/dist-packages/keras/backend/tensorflow_backend.py:148: The name tf.placeholder_with_default is deprecated. Please use tf.compat.v1.placeholder_with_default instead.\n",
            "\n",
            "WARNING:tensorflow:From /usr/local/lib/python3.6/dist-packages/keras/backend/tensorflow_backend.py:3733: calling dropout (from tensorflow.python.ops.nn_ops) with keep_prob is deprecated and will be removed in a future version.\n",
            "Instructions for updating:\n",
            "Please use `rate` instead of `keep_prob`. Rate should be set to `rate = 1 - keep_prob`.\n",
            "WARNING:tensorflow:From /usr/local/lib/python3.6/dist-packages/keras/optimizers.py:793: The name tf.train.Optimizer is deprecated. Please use tf.compat.v1.train.Optimizer instead.\n",
            "\n"
          ],
          "name": "stdout"
        }
      ]
    },
    {
      "cell_type": "code",
      "metadata": {
        "id": "fT_WLWsu2gyQ",
        "colab_type": "code",
        "outputId": "42b85357-da58-47ab-a774-85f6260bd144",
        "colab": {
          "base_uri": "https://localhost:8080/",
          "height": 1000
        }
      },
      "source": [
        "model.fit_generator(generator,epochs=90)"
      ],
      "execution_count": 0,
      "outputs": [
        {
          "output_type": "stream",
          "text": [
            "WARNING:tensorflow:From /usr/local/lib/python3.6/dist-packages/tensorflow_core/python/ops/math_grad.py:1424: where (from tensorflow.python.ops.array_ops) is deprecated and will be removed in a future version.\n",
            "Instructions for updating:\n",
            "Use tf.where in 2.0, which has the same broadcast rule as np.where\n",
            "WARNING:tensorflow:From /usr/local/lib/python3.6/dist-packages/keras/backend/tensorflow_backend.py:1033: The name tf.assign_add is deprecated. Please use tf.compat.v1.assign_add instead.\n",
            "\n",
            "WARNING:tensorflow:From /usr/local/lib/python3.6/dist-packages/keras/backend/tensorflow_backend.py:1020: The name tf.assign is deprecated. Please use tf.compat.v1.assign instead.\n",
            "\n",
            "WARNING:tensorflow:From /usr/local/lib/python3.6/dist-packages/keras/backend/tensorflow_backend.py:3005: The name tf.Session is deprecated. Please use tf.compat.v1.Session instead.\n",
            "\n",
            "Epoch 1/90\n",
            "WARNING:tensorflow:From /usr/local/lib/python3.6/dist-packages/keras/backend/tensorflow_backend.py:190: The name tf.get_default_session is deprecated. Please use tf.compat.v1.get_default_session instead.\n",
            "\n",
            "WARNING:tensorflow:From /usr/local/lib/python3.6/dist-packages/keras/backend/tensorflow_backend.py:197: The name tf.ConfigProto is deprecated. Please use tf.compat.v1.ConfigProto instead.\n",
            "\n",
            "WARNING:tensorflow:From /usr/local/lib/python3.6/dist-packages/keras/backend/tensorflow_backend.py:207: The name tf.global_variables is deprecated. Please use tf.compat.v1.global_variables instead.\n",
            "\n",
            "WARNING:tensorflow:From /usr/local/lib/python3.6/dist-packages/keras/backend/tensorflow_backend.py:216: The name tf.is_variable_initialized is deprecated. Please use tf.compat.v1.is_variable_initialized instead.\n",
            "\n",
            "WARNING:tensorflow:From /usr/local/lib/python3.6/dist-packages/keras/backend/tensorflow_backend.py:223: The name tf.variables_initializer is deprecated. Please use tf.compat.v1.variables_initializer instead.\n",
            "\n",
            "20/20 [==============================] - 10s 476ms/step - loss: 0.0793\n",
            "Epoch 2/90\n",
            "20/20 [==============================] - 1s 28ms/step - loss: 0.0204\n",
            "Epoch 3/90\n",
            "20/20 [==============================] - 1s 28ms/step - loss: 0.0178\n",
            "Epoch 4/90\n",
            "20/20 [==============================] - 1s 29ms/step - loss: 0.0106\n",
            "Epoch 5/90\n",
            "20/20 [==============================] - 1s 27ms/step - loss: 0.0124\n",
            "Epoch 6/90\n",
            "20/20 [==============================] - 1s 29ms/step - loss: 0.0104\n",
            "Epoch 7/90\n",
            "20/20 [==============================] - 1s 28ms/step - loss: 0.0099\n",
            "Epoch 8/90\n",
            "20/20 [==============================] - 1s 29ms/step - loss: 0.0099\n",
            "Epoch 9/90\n",
            "20/20 [==============================] - 1s 29ms/step - loss: 0.0094\n",
            "Epoch 10/90\n",
            "20/20 [==============================] - 1s 28ms/step - loss: 0.0097\n",
            "Epoch 11/90\n",
            "20/20 [==============================] - 1s 28ms/step - loss: 0.0086\n",
            "Epoch 12/90\n",
            "20/20 [==============================] - 1s 29ms/step - loss: 0.0101\n",
            "Epoch 13/90\n",
            "20/20 [==============================] - 1s 28ms/step - loss: 0.0088\n",
            "Epoch 14/90\n",
            "20/20 [==============================] - 1s 28ms/step - loss: 0.0103\n",
            "Epoch 15/90\n",
            "20/20 [==============================] - 1s 28ms/step - loss: 0.0075\n",
            "Epoch 16/90\n",
            "20/20 [==============================] - 1s 29ms/step - loss: 0.0094\n",
            "Epoch 17/90\n",
            "20/20 [==============================] - 1s 28ms/step - loss: 0.0064\n",
            "Epoch 18/90\n",
            "20/20 [==============================] - 1s 28ms/step - loss: 0.0076\n",
            "Epoch 19/90\n",
            "20/20 [==============================] - 1s 28ms/step - loss: 0.0090\n",
            "Epoch 20/90\n",
            "20/20 [==============================] - 1s 28ms/step - loss: 0.0094\n",
            "Epoch 21/90\n",
            "20/20 [==============================] - 1s 28ms/step - loss: 0.0075\n",
            "Epoch 22/90\n",
            "20/20 [==============================] - 1s 28ms/step - loss: 0.0091\n",
            "Epoch 23/90\n",
            "20/20 [==============================] - 1s 28ms/step - loss: 0.0076\n",
            "Epoch 24/90\n",
            "20/20 [==============================] - 1s 28ms/step - loss: 0.0049\n",
            "Epoch 25/90\n",
            "20/20 [==============================] - 1s 28ms/step - loss: 0.0052\n",
            "Epoch 26/90\n",
            "20/20 [==============================] - 1s 29ms/step - loss: 0.0054\n",
            "Epoch 27/90\n",
            "20/20 [==============================] - 1s 28ms/step - loss: 0.0063\n",
            "Epoch 28/90\n",
            "20/20 [==============================] - 1s 28ms/step - loss: 0.0065\n",
            "Epoch 29/90\n",
            "20/20 [==============================] - 1s 28ms/step - loss: 0.0060\n",
            "Epoch 30/90\n",
            "20/20 [==============================] - 1s 29ms/step - loss: 0.0067\n",
            "Epoch 31/90\n",
            "20/20 [==============================] - 1s 28ms/step - loss: 0.0164\n",
            "Epoch 32/90\n",
            "20/20 [==============================] - 1s 28ms/step - loss: 0.0077\n",
            "Epoch 33/90\n",
            "20/20 [==============================] - 1s 28ms/step - loss: 0.0045\n",
            "Epoch 34/90\n",
            "20/20 [==============================] - 1s 28ms/step - loss: 0.0026\n",
            "Epoch 35/90\n",
            "20/20 [==============================] - 1s 29ms/step - loss: 0.0051\n",
            "Epoch 36/90\n",
            "20/20 [==============================] - 1s 28ms/step - loss: 0.0048\n",
            "Epoch 37/90\n",
            "20/20 [==============================] - 1s 28ms/step - loss: 0.0043\n",
            "Epoch 38/90\n",
            "20/20 [==============================] - 1s 27ms/step - loss: 0.0039\n",
            "Epoch 39/90\n",
            "20/20 [==============================] - 1s 29ms/step - loss: 0.0024\n",
            "Epoch 40/90\n",
            "20/20 [==============================] - 1s 28ms/step - loss: 0.0057\n",
            "Epoch 41/90\n",
            "20/20 [==============================] - 1s 28ms/step - loss: 0.0075\n",
            "Epoch 42/90\n",
            "20/20 [==============================] - 1s 28ms/step - loss: 0.0029\n",
            "Epoch 43/90\n",
            "20/20 [==============================] - 1s 27ms/step - loss: 0.0040\n",
            "Epoch 44/90\n",
            "20/20 [==============================] - 1s 28ms/step - loss: 0.0027\n",
            "Epoch 45/90\n",
            "20/20 [==============================] - 1s 28ms/step - loss: 0.0036\n",
            "Epoch 46/90\n",
            "20/20 [==============================] - 1s 28ms/step - loss: 0.0046\n",
            "Epoch 47/90\n",
            "20/20 [==============================] - 1s 27ms/step - loss: 0.0029\n",
            "Epoch 48/90\n",
            "20/20 [==============================] - 1s 29ms/step - loss: 0.0029\n",
            "Epoch 49/90\n",
            "20/20 [==============================] - 1s 28ms/step - loss: 0.0030\n",
            "Epoch 50/90\n",
            "20/20 [==============================] - 1s 28ms/step - loss: 0.0148\n",
            "Epoch 51/90\n",
            "20/20 [==============================] - 1s 28ms/step - loss: 0.0114\n",
            "Epoch 52/90\n",
            "20/20 [==============================] - 1s 28ms/step - loss: 0.0053\n",
            "Epoch 53/90\n",
            "20/20 [==============================] - 1s 29ms/step - loss: 0.0035\n",
            "Epoch 54/90\n",
            "20/20 [==============================] - 1s 28ms/step - loss: 0.0035\n",
            "Epoch 55/90\n",
            "20/20 [==============================] - 1s 28ms/step - loss: 0.0037\n",
            "Epoch 56/90\n",
            "20/20 [==============================] - 1s 28ms/step - loss: 0.0029\n",
            "Epoch 57/90\n",
            "20/20 [==============================] - 1s 28ms/step - loss: 0.0030\n",
            "Epoch 58/90\n",
            "20/20 [==============================] - 1s 28ms/step - loss: 0.0032\n",
            "Epoch 59/90\n",
            "20/20 [==============================] - 1s 29ms/step - loss: 0.0023\n",
            "Epoch 60/90\n",
            "20/20 [==============================] - 1s 28ms/step - loss: 0.0044\n",
            "Epoch 61/90\n",
            "20/20 [==============================] - 1s 28ms/step - loss: 0.0031\n",
            "Epoch 62/90\n",
            "20/20 [==============================] - 1s 28ms/step - loss: 0.0051\n",
            "Epoch 63/90\n",
            "20/20 [==============================] - 1s 28ms/step - loss: 0.0035\n",
            "Epoch 64/90\n",
            "20/20 [==============================] - 1s 29ms/step - loss: 0.0028\n",
            "Epoch 65/90\n",
            "20/20 [==============================] - 1s 27ms/step - loss: 0.0030\n",
            "Epoch 66/90\n",
            "20/20 [==============================] - 1s 28ms/step - loss: 0.0024\n",
            "Epoch 67/90\n",
            "20/20 [==============================] - 1s 28ms/step - loss: 0.0027\n",
            "Epoch 68/90\n",
            "20/20 [==============================] - 1s 28ms/step - loss: 0.0020\n",
            "Epoch 69/90\n",
            "20/20 [==============================] - 1s 27ms/step - loss: 0.0023\n",
            "Epoch 70/90\n",
            "20/20 [==============================] - 1s 29ms/step - loss: 0.0025\n",
            "Epoch 71/90\n",
            "20/20 [==============================] - 1s 28ms/step - loss: 0.0020\n",
            "Epoch 72/90\n",
            "20/20 [==============================] - 1s 28ms/step - loss: 0.0023\n",
            "Epoch 73/90\n",
            "20/20 [==============================] - 1s 29ms/step - loss: 0.0022\n",
            "Epoch 74/90\n",
            "20/20 [==============================] - 1s 28ms/step - loss: 0.0038\n",
            "Epoch 75/90\n",
            "20/20 [==============================] - 1s 29ms/step - loss: 0.0087\n",
            "Epoch 76/90\n",
            "20/20 [==============================] - 1s 27ms/step - loss: 0.0042\n",
            "Epoch 77/90\n",
            "20/20 [==============================] - 1s 29ms/step - loss: 0.0053\n",
            "Epoch 78/90\n",
            "20/20 [==============================] - 1s 27ms/step - loss: 0.0032\n",
            "Epoch 79/90\n",
            "20/20 [==============================] - 1s 29ms/step - loss: 0.0018\n",
            "Epoch 80/90\n",
            "20/20 [==============================] - 1s 28ms/step - loss: 0.0024\n",
            "Epoch 81/90\n",
            "20/20 [==============================] - 1s 28ms/step - loss: 0.0023\n",
            "Epoch 82/90\n",
            "20/20 [==============================] - 1s 28ms/step - loss: 0.0021\n",
            "Epoch 83/90\n",
            "20/20 [==============================] - 1s 28ms/step - loss: 0.0024\n",
            "Epoch 84/90\n",
            "20/20 [==============================] - 1s 28ms/step - loss: 0.0024\n",
            "Epoch 85/90\n",
            "20/20 [==============================] - 1s 29ms/step - loss: 0.0016\n",
            "Epoch 86/90\n",
            "20/20 [==============================] - 1s 29ms/step - loss: 0.0026\n",
            "Epoch 87/90\n",
            "20/20 [==============================] - 1s 28ms/step - loss: 0.0036\n",
            "Epoch 88/90\n",
            "20/20 [==============================] - 1s 28ms/step - loss: 0.0041\n",
            "Epoch 89/90\n",
            "20/20 [==============================] - 1s 28ms/step - loss: 0.0030\n",
            "Epoch 90/90\n",
            "20/20 [==============================] - 1s 29ms/step - loss: 0.0022\n"
          ],
          "name": "stdout"
        },
        {
          "output_type": "execute_result",
          "data": {
            "text/plain": [
              "<keras.callbacks.History at 0x7fc28e97bb70>"
            ]
          },
          "metadata": {
            "tags": []
          },
          "execution_count": 11
        }
      ]
    },
    {
      "cell_type": "code",
      "metadata": {
        "id": "AMCC8xzD2sE0",
        "colab_type": "code",
        "colab": {}
      },
      "source": [
        "pred_list = []\n",
        "\n",
        "batch = train[-n_input:].reshape((1, n_input, n_features))\n",
        "\n",
        "for i in range(n_input):   \n",
        "    pred_list.append(model.predict(batch)[0]) \n",
        "    batch = np.append(batch[:,1:,:],[[pred_list[i]]],axis=1)"
      ],
      "execution_count": 0,
      "outputs": []
    },
    {
      "cell_type": "code",
      "metadata": {
        "id": "qagJAiRm_PE0",
        "colab_type": "code",
        "colab": {}
      },
      "source": [
        "df_predict = pd.DataFrame(scaler.inverse_transform(pred_list),\n",
        "                          index=df[-n_input:].index, columns=['Prediction'])\n",
        "data = pd.concat([df,df_predict], axis=1)"
      ],
      "execution_count": 0,
      "outputs": []
    },
    {
      "cell_type": "code",
      "metadata": {
        "id": "qZvj-P2_AFvr",
        "colab_type": "code",
        "outputId": "c20739ad-6655-41ff-b732-b54740a83d96",
        "colab": {
          "base_uri": "https://localhost:8080/",
          "height": 350
        }
      },
      "source": [
        "plt.figure(figsize=(16, 5))\n",
        "plt.plot(data.index, data['AirPassengers'])\n",
        "plt.plot(data.index, data['Prediction'], color='r')\n",
        "plt.legend(loc='best', fontsize='xx-large')\n",
        "plt.xticks(fontsize=18)\n",
        "plt.yticks(fontsize=16)\n",
        "plt.show()"
      ],
      "execution_count": 0,
      "outputs": [
        {
          "output_type": "stream",
          "text": [
            "No handles with labels found to put in legend.\n"
          ],
          "name": "stderr"
        },
        {
          "output_type": "display_data",
          "data": {
            "image/png": "[encoded data removed]",
            "text/plain": [
              "<Figure size 1152x360 with 1 Axes>"
            ]
          },
          "metadata": {
            "tags": []
          }
        }
      ]
    },
    {
      "cell_type": "markdown",
      "metadata": {
        "id": "kon39vQlL8Jz",
        "colab_type": "text"
      },
      "source": [
        "# SARIMAX Model"
      ]
    },
    {
      "cell_type": "code",
      "metadata": {
        "id": "bmt2U7rZL63k",
        "colab_type": "code",
        "colab": {}
      },
      "source": [
        "import numpy as np\n",
        "import pandas as pd\n",
        "import matplotlib.pyplot as plt\n",
        "import statsmodels.api as sm\n",
        "from statsmodels.tsa.seasonal import seasonal_decompose\n",
        "from statsmodels.tsa.stattools import adfuller\n",
        "from statsmodels.graphics.tsaplots import plot_acf,plot_pacf\n",
        "import itertools\n",
        "%matplotlib inline"
      ],
      "execution_count": 0,
      "outputs": []
    },
    {
      "cell_type": "code",
      "metadata": {
        "id": "cKrvIDksL7Sx",
        "colab_type": "code",
        "colab": {
          "base_uri": "https://localhost:8080/",
          "height": 206
        },
        "outputId": "96fa95b4-bc58-45dd-dda3-2351f3b65391"
      },
      "source": [
        "dataset = pd.read_csv('/content/AirPassengers.csv')\n",
        "dataset.head()"
      ],
      "execution_count": 8,
      "outputs": [
        {
          "output_type": "execute_result",
          "data": {
            "text/html": [
              "<div>\n",
              "<style scoped>\n",
              "    .dataframe tbody tr th:only-of-type {\n",
              "        vertical-align: middle;\n",
              "    }\n",
              "\n",
              "    .dataframe tbody tr th {\n",
              "        vertical-align: top;\n",
              "    }\n",
              "\n",
              "    .dataframe thead th {\n",
              "        text-align: right;\n",
              "    }\n",
              "</style>\n",
              "<table border=\"1\" class=\"dataframe\">\n",
              "  <thead>\n",
              "    <tr style=\"text-align: right;\">\n",
              "      <th></th>\n",
              "      <th>Month</th>\n",
              "      <th>AirPassengers</th>\n",
              "    </tr>\n",
              "  </thead>\n",
              "  <tbody>\n",
              "    <tr>\n",
              "      <th>0</th>\n",
              "      <td>1949-01</td>\n",
              "      <td>112</td>\n",
              "    </tr>\n",
              "    <tr>\n",
              "      <th>1</th>\n",
              "      <td>1949-02</td>\n",
              "      <td>118</td>\n",
              "    </tr>\n",
              "    <tr>\n",
              "      <th>2</th>\n",
              "      <td>1949-03</td>\n",
              "      <td>132</td>\n",
              "    </tr>\n",
              "    <tr>\n",
              "      <th>3</th>\n",
              "      <td>1949-04</td>\n",
              "      <td>129</td>\n",
              "    </tr>\n",
              "    <tr>\n",
              "      <th>4</th>\n",
              "      <td>1949-05</td>\n",
              "      <td>121</td>\n",
              "    </tr>\n",
              "  </tbody>\n",
              "</table>\n",
              "</div>"
            ],
            "text/plain": [
              "     Month  AirPassengers\n",
              "0  1949-01            112\n",
              "1  1949-02            118\n",
              "2  1949-03            132\n",
              "3  1949-04            129\n",
              "4  1949-05            121"
            ]
          },
          "metadata": {
            "tags": []
          },
          "execution_count": 8
        }
      ]
    },
    {
      "cell_type": "code",
      "metadata": {
        "id": "_2osm_MVL7eP",
        "colab_type": "code",
        "colab": {}
      },
      "source": [
        "dataset['Month'] = pd.to_datetime(dataset['Month'])\n",
        "dataset.set_index('Month', inplace=True)\n",
        "dataset.index.freq = 'MS'"
      ],
      "execution_count": 0,
      "outputs": []
    },
    {
      "cell_type": "code",
      "metadata": {
        "id": "rlQ_seKJL7hM",
        "colab_type": "code",
        "colab": {
          "base_uri": "https://localhost:8080/",
          "height": 296
        },
        "outputId": "bdfe263b-1215-4369-9689-3c180955888b"
      },
      "source": [
        "dataset.plot()"
      ],
      "execution_count": 10,
      "outputs": [
        {
          "output_type": "execute_result",
          "data": {
            "text/plain": [
              "<matplotlib.axes._subplots.AxesSubplot at 0x7fb0f617c390>"
            ]
          },
          "metadata": {
            "tags": []
          },
          "execution_count": 10
        },
        {
          "output_type": "display_data",
          "data": {
            "image/png": "[encoded data removed]",
            "text/plain": [
              "<Figure size 432x288 with 1 Axes>"
            ]
          },
          "metadata": {
            "tags": []
          }
        }
      ]
    },
    {
      "cell_type": "code",
      "metadata": {
        "id": "j5Z4xR2xL7kW",
        "colab_type": "code",
        "colab": {}
      },
      "source": [
        "train, test = dataset.iloc[:131], dataset.iloc[131:]"
      ],
      "execution_count": 0,
      "outputs": []
    },
    {
      "cell_type": "code",
      "metadata": {
        "id": "sxZjCyQPL7m-",
        "colab_type": "code",
        "colab": {}
      },
      "source": [
        "def find_best_sarima(train, eval_metric):\n",
        "    \n",
        "    p = d = q = range(0, 2)\n",
        "    pdq = list(itertools.product(p, d, q))\n",
        "    seasonal_pdq = [(x[0], x[1], x[2], 12) for x in list(itertools.product(p, d, q))]\n",
        "\n",
        "    counter = 0\n",
        "    myDict = {}\n",
        "    \n",
        "    for param in pdq:\n",
        "        for param_seasonal in seasonal_pdq:\n",
        "            try:\n",
        "                counter += 1\n",
        "                mod = sm.tsa.statespace.SARIMAX(train,\n",
        "                                                order=param,\n",
        "                                                seasonal_order=param_seasonal,\n",
        "                                                enforce_stationarity=False,\n",
        "                                                enforce_invertibility=False)\n",
        "\n",
        "                results = mod.fit()\n",
        "                myDict[counter] = [results.aic, results.bic, param, param_seasonal]\n",
        "\n",
        "            except:\n",
        "                continue\n",
        "                \n",
        "    dict_to_df = pd.DataFrame.from_dict(myDict,orient='index')\n",
        "    \n",
        "    if eval_metric == 'aic':\n",
        "        best_run = dict_to_df[dict_to_df[0] == dict_to_df[0].min()].index.values\n",
        "        best_run = best_run[0]\n",
        "    elif eval_metric == 'bic':\n",
        "        best_run = dict_to_df[dict_to_df[1] == dict_to_df[1].min()].index.values\n",
        "        best_run = best_run[0]\n",
        "            \n",
        "    model = sm.tsa.statespace.SARIMAX(train,\n",
        "                                      order=myDict[best_run][2],\n",
        "                                      seasonal_order=myDict[best_run][3],\n",
        "                                      enforce_stationarity=False,\n",
        "                                      enforce_invertibility=False).fit()\n",
        "    \n",
        "    best_model = {'model':model, \n",
        "                  'aic':model.aic,\n",
        "                  'bic':model.bic,\n",
        "                  'order':myDict[best_run][2], \n",
        "                  'seasonal_order':myDict[best_run][3]}\n",
        "    \n",
        "    return best_model"
      ],
      "execution_count": 0,
      "outputs": []
    },
    {
      "cell_type": "code",
      "metadata": {
        "id": "sHtO1xOtM_sd",
        "colab_type": "code",
        "colab": {
          "base_uri": "https://localhost:8080/",
          "height": 193
        },
        "outputId": "fa3cbb9b-7825-4c86-a6d2-31058b52bbe2"
      },
      "source": [
        "best = find_best_sarima(train, 'aic')\n",
        "best"
      ],
      "execution_count": 13,
      "outputs": [
        {
          "output_type": "stream",
          "text": [
            "/usr/local/lib/python3.6/dist-packages/statsmodels/base/model.py:512: ConvergenceWarning: Maximum Likelihood optimization failed to converge. Check mle_retvals\n",
            "  \"Check mle_retvals\", ConvergenceWarning)\n",
            "/usr/local/lib/python3.6/dist-packages/statsmodels/base/model.py:512: ConvergenceWarning: Maximum Likelihood optimization failed to converge. Check mle_retvals\n",
            "  \"Check mle_retvals\", ConvergenceWarning)\n"
          ],
          "name": "stderr"
        },
        {
          "output_type": "execute_result",
          "data": {
            "text/plain": [
              "{'aic': 793.9172538749697,\n",
              " 'bic': 804.4948174715352,\n",
              " 'model': <statsmodels.tsa.statespace.sarimax.SARIMAXResultsWrapper at 0x7fb0f60cbf98>,\n",
              " 'order': (0, 1, 1),\n",
              " 'seasonal_order': (1, 1, 1, 12)}"
            ]
          },
          "metadata": {
            "tags": []
          },
          "execution_count": 13
        }
      ]
    },
    {
      "cell_type": "code",
      "metadata": {
        "id": "oqwO9Ba9M_0T",
        "colab_type": "code",
        "colab": {}
      },
      "source": [
        "pred = best['model'].predict(start=test.index[0], end=test.index[-1], dynamic=True)"
      ],
      "execution_count": 0,
      "outputs": []
    },
    {
      "cell_type": "code",
      "metadata": {
        "id": "bvmnsB2EM_9Y",
        "colab_type": "code",
        "colab": {
          "base_uri": "https://localhost:8080/",
          "height": 483
        },
        "outputId": "892cc4e3-6a95-40a6-e7f1-59fd1a80389f"
      },
      "source": [
        "plt.figure(figsize=(16,8))\n",
        "plt.plot(train.index, train, label='Train')\n",
        "plt.plot(pred.index, pred, label='SARIMA', color='r')\n",
        "plt.plot(test.index, test, label='Test', color='k')\n",
        "plt.legend(loc='best', fontsize='xx-large')\n",
        "plt.show()"
      ],
      "execution_count": 16,
      "outputs": [
        {
          "output_type": "display_data",
          "data": {
            "image/png": "[encoded data removed]",
            "text/plain": [
              "<Figure size 1152x576 with 1 Axes>"
            ]
          },
          "metadata": {
            "tags": []
          }
        }
      ]
    },
    {
      "cell_type": "code",
      "metadata": {
        "id": "wfvW0BENNAHQ",
        "colab_type": "code",
        "colab": {}
      },
      "source": [
        ""
      ],
      "execution_count": 0,
      "outputs": []
    },
    {
      "cell_type": "markdown",
      "metadata": {
        "id": "evIWzyc96lBg",
        "colab_type": "text"
      },
      "source": [
        "# Stock price prediction"
      ]
    },
    {
      "cell_type": "code",
      "metadata": {
        "id": "F49ACr1IBTaK",
        "colab_type": "code",
        "outputId": "accdcce8-aee8-4fe8-d3b4-449d80eaadb9",
        "colab": {
          "base_uri": "https://localhost:8080/",
          "height": 139
        }
      },
      "source": [
        "!unzip \"/content/drive/My Drive/Stock-Price-Prediction-using-Keras-and-Recurrent-Neural-Networ-master.zip\""
      ],
      "execution_count": 17,
      "outputs": [
        {
          "output_type": "stream",
          "text": [
            "Archive:  /content/drive/My Drive/Stock-Price-Prediction-using-Keras-and-Recurrent-Neural-Networ-master.zip\n",
            "6918aaafb1b11e5087b8424e1a50f4028268a4ea\n",
            "   creating: Stock-Price-Prediction-using-Keras-and-Recurrent-Neural-Networ-master/\n",
            "  inflating: Stock-Price-Prediction-using-Keras-and-Recurrent-Neural-Networ-master/Google_Stock_Price_Test.csv  \n",
            "  inflating: Stock-Price-Prediction-using-Keras-and-Recurrent-Neural-Networ-master/Google_Stock_Price_Train.csv  \n",
            "  inflating: Stock-Price-Prediction-using-Keras-and-Recurrent-Neural-Networ-master/README.md  \n",
            "  inflating: Stock-Price-Prediction-using-Keras-and-Recurrent-Neural-Networ-master/rnn.py  \n"
          ],
          "name": "stdout"
        }
      ]
    },
    {
      "cell_type": "code",
      "metadata": {
        "id": "9qKrIWoS58Qj",
        "colab_type": "code",
        "outputId": "554f634d-d180-415b-eeb3-cbdcbb553d1f",
        "colab": {
          "base_uri": "https://localhost:8080/",
          "height": 206
        }
      },
      "source": [
        "import pandas as pd\n",
        "import numpy as np\n",
        "import pandas as pd\n",
        "import matplotlib.pyplot as plt\n",
        "%matplotlib inline\n",
        "from statsmodels.tools.eval_measures import rmse\n",
        "from sklearn.preprocessing import MinMaxScaler\n",
        "from keras.preprocessing.sequence import TimeseriesGenerator\n",
        "from keras.models import Sequential\n",
        "from keras.layers import Dense\n",
        "from keras.layers import LSTM\n",
        "from keras.layers import Dropout\n",
        "data=pd.read_csv('/content/Stock-Price-Prediction-using-Keras-and-Recurrent-Neural-Networ-master/Google_Stock_Price_Train.csv')\n",
        "test=pd.read_csv('/content/Stock-Price-Prediction-using-Keras-and-Recurrent-Neural-Networ-master/Google_Stock_Price_Test.csv')\n",
        "data.head()"
      ],
      "execution_count": 18,
      "outputs": [
        {
          "output_type": "execute_result",
          "data": {
            "text/html": [
              "<div>\n",
              "<style scoped>\n",
              "    .dataframe tbody tr th:only-of-type {\n",
              "        vertical-align: middle;\n",
              "    }\n",
              "\n",
              "    .dataframe tbody tr th {\n",
              "        vertical-align: top;\n",
              "    }\n",
              "\n",
              "    .dataframe thead th {\n",
              "        text-align: right;\n",
              "    }\n",
              "</style>\n",
              "<table border=\"1\" class=\"dataframe\">\n",
              "  <thead>\n",
              "    <tr style=\"text-align: right;\">\n",
              "      <th></th>\n",
              "      <th>Date</th>\n",
              "      <th>Open</th>\n",
              "      <th>High</th>\n",
              "      <th>Low</th>\n",
              "      <th>Close</th>\n",
              "      <th>Volume</th>\n",
              "    </tr>\n",
              "  </thead>\n",
              "  <tbody>\n",
              "    <tr>\n",
              "      <th>0</th>\n",
              "      <td>1/3/2012</td>\n",
              "      <td>325.25</td>\n",
              "      <td>332.83</td>\n",
              "      <td>324.97</td>\n",
              "      <td>663.59</td>\n",
              "      <td>7,380,500</td>\n",
              "    </tr>\n",
              "    <tr>\n",
              "      <th>1</th>\n",
              "      <td>1/4/2012</td>\n",
              "      <td>331.27</td>\n",
              "      <td>333.87</td>\n",
              "      <td>329.08</td>\n",
              "      <td>666.45</td>\n",
              "      <td>5,749,400</td>\n",
              "    </tr>\n",
              "    <tr>\n",
              "      <th>2</th>\n",
              "      <td>1/5/2012</td>\n",
              "      <td>329.83</td>\n",
              "      <td>330.75</td>\n",
              "      <td>326.89</td>\n",
              "      <td>657.21</td>\n",
              "      <td>6,590,300</td>\n",
              "    </tr>\n",
              "    <tr>\n",
              "      <th>3</th>\n",
              "      <td>1/6/2012</td>\n",
              "      <td>328.34</td>\n",
              "      <td>328.77</td>\n",
              "      <td>323.68</td>\n",
              "      <td>648.24</td>\n",
              "      <td>5,405,900</td>\n",
              "    </tr>\n",
              "    <tr>\n",
              "      <th>4</th>\n",
              "      <td>1/9/2012</td>\n",
              "      <td>322.04</td>\n",
              "      <td>322.29</td>\n",
              "      <td>309.46</td>\n",
              "      <td>620.76</td>\n",
              "      <td>11,688,800</td>\n",
              "    </tr>\n",
              "  </tbody>\n",
              "</table>\n",
              "</div>"
            ],
            "text/plain": [
              "       Date    Open    High     Low   Close      Volume\n",
              "0  1/3/2012  325.25  332.83  324.97  663.59   7,380,500\n",
              "1  1/4/2012  331.27  333.87  329.08  666.45   5,749,400\n",
              "2  1/5/2012  329.83  330.75  326.89  657.21   6,590,300\n",
              "3  1/6/2012  328.34  328.77  323.68  648.24   5,405,900\n",
              "4  1/9/2012  322.04  322.29  309.46  620.76  11,688,800"
            ]
          },
          "metadata": {
            "tags": []
          },
          "execution_count": 18
        }
      ]
    },
    {
      "cell_type": "code",
      "metadata": {
        "id": "yieOyKAN6E51",
        "colab_type": "code",
        "colab": {}
      },
      "source": [
        "train=data[['Date','Open']]\n",
        "test=test[['Date','Open']]"
      ],
      "execution_count": 0,
      "outputs": []
    },
    {
      "cell_type": "code",
      "metadata": {
        "id": "pldadGyd6JnI",
        "colab_type": "code",
        "outputId": "6cfa9dde-1e25-4f7c-b3c8-789c96d21ab6",
        "colab": {
          "base_uri": "https://localhost:8080/",
          "height": 342
        }
      },
      "source": [
        "train['Date'] = pd.to_datetime(train['Date'])\n",
        "train = train.set_index(\"Date\")\n",
        "train.head()"
      ],
      "execution_count": 0,
      "outputs": [
        {
          "output_type": "stream",
          "text": [
            "/usr/local/lib/python3.6/dist-packages/ipykernel_launcher.py:1: SettingWithCopyWarning: \n",
            "A value is trying to be set on a copy of a slice from a DataFrame.\n",
            "Try using .loc[row_indexer,col_indexer] = value instead\n",
            "\n",
            "See the caveats in the documentation: http://pandas.pydata.org/pandas-docs/stable/user_guide/indexing.html#returning-a-view-versus-a-copy\n",
            "  \"\"\"Entry point for launching an IPython kernel.\n"
          ],
          "name": "stderr"
        },
        {
          "output_type": "execute_result",
          "data": {
            "text/html": [
              "<div>\n",
              "<style scoped>\n",
              "    .dataframe tbody tr th:only-of-type {\n",
              "        vertical-align: middle;\n",
              "    }\n",
              "\n",
              "    .dataframe tbody tr th {\n",
              "        vertical-align: top;\n",
              "    }\n",
              "\n",
              "    .dataframe thead th {\n",
              "        text-align: right;\n",
              "    }\n",
              "</style>\n",
              "<table border=\"1\" class=\"dataframe\">\n",
              "  <thead>\n",
              "    <tr style=\"text-align: right;\">\n",
              "      <th></th>\n",
              "      <th>Open</th>\n",
              "    </tr>\n",
              "    <tr>\n",
              "      <th>Date</th>\n",
              "      <th></th>\n",
              "    </tr>\n",
              "  </thead>\n",
              "  <tbody>\n",
              "    <tr>\n",
              "      <th>2012-01-03</th>\n",
              "      <td>325.25</td>\n",
              "    </tr>\n",
              "    <tr>\n",
              "      <th>2012-01-04</th>\n",
              "      <td>331.27</td>\n",
              "    </tr>\n",
              "    <tr>\n",
              "      <th>2012-01-05</th>\n",
              "      <td>329.83</td>\n",
              "    </tr>\n",
              "    <tr>\n",
              "      <th>2012-01-06</th>\n",
              "      <td>328.34</td>\n",
              "    </tr>\n",
              "    <tr>\n",
              "      <th>2012-01-09</th>\n",
              "      <td>322.04</td>\n",
              "    </tr>\n",
              "  </tbody>\n",
              "</table>\n",
              "</div>"
            ],
            "text/plain": [
              "              Open\n",
              "Date              \n",
              "2012-01-03  325.25\n",
              "2012-01-04  331.27\n",
              "2012-01-05  329.83\n",
              "2012-01-06  328.34\n",
              "2012-01-09  322.04"
            ]
          },
          "metadata": {
            "tags": []
          },
          "execution_count": 19
        }
      ]
    },
    {
      "cell_type": "code",
      "metadata": {
        "id": "3qsCO8Y86d4r",
        "colab_type": "code",
        "outputId": "abedc575-beca-4017-dc81-291b2964124f",
        "colab": {
          "base_uri": "https://localhost:8080/",
          "height": 238
        }
      },
      "source": [
        "test['Date'] = pd.to_datetime(test['Date'])\n",
        "test = test.set_index(\"Date\")\n",
        "test.head()"
      ],
      "execution_count": 0,
      "outputs": [
        {
          "output_type": "execute_result",
          "data": {
            "text/html": [
              "<div>\n",
              "<style scoped>\n",
              "    .dataframe tbody tr th:only-of-type {\n",
              "        vertical-align: middle;\n",
              "    }\n",
              "\n",
              "    .dataframe tbody tr th {\n",
              "        vertical-align: top;\n",
              "    }\n",
              "\n",
              "    .dataframe thead th {\n",
              "        text-align: right;\n",
              "    }\n",
              "</style>\n",
              "<table border=\"1\" class=\"dataframe\">\n",
              "  <thead>\n",
              "    <tr style=\"text-align: right;\">\n",
              "      <th></th>\n",
              "      <th>Open</th>\n",
              "    </tr>\n",
              "    <tr>\n",
              "      <th>Date</th>\n",
              "      <th></th>\n",
              "    </tr>\n",
              "  </thead>\n",
              "  <tbody>\n",
              "    <tr>\n",
              "      <th>2017-01-03</th>\n",
              "      <td>778.81</td>\n",
              "    </tr>\n",
              "    <tr>\n",
              "      <th>2017-01-04</th>\n",
              "      <td>788.36</td>\n",
              "    </tr>\n",
              "    <tr>\n",
              "      <th>2017-01-05</th>\n",
              "      <td>786.08</td>\n",
              "    </tr>\n",
              "    <tr>\n",
              "      <th>2017-01-06</th>\n",
              "      <td>795.26</td>\n",
              "    </tr>\n",
              "    <tr>\n",
              "      <th>2017-01-09</th>\n",
              "      <td>806.40</td>\n",
              "    </tr>\n",
              "  </tbody>\n",
              "</table>\n",
              "</div>"
            ],
            "text/plain": [
              "              Open\n",
              "Date              \n",
              "2017-01-03  778.81\n",
              "2017-01-04  788.36\n",
              "2017-01-05  786.08\n",
              "2017-01-06  795.26\n",
              "2017-01-09  806.40"
            ]
          },
          "metadata": {
            "tags": []
          },
          "execution_count": 20
        }
      ]
    },
    {
      "cell_type": "code",
      "metadata": {
        "id": "qMp9u7M67848",
        "colab_type": "code",
        "outputId": "d812575d-ab13-49aa-8a38-9aa5085c0d49",
        "colab": {
          "base_uri": "https://localhost:8080/",
          "height": 34
        }
      },
      "source": [
        "train.shape,test.shape"
      ],
      "execution_count": 0,
      "outputs": [
        {
          "output_type": "execute_result",
          "data": {
            "text/plain": [
              "((1258, 1), (20, 1))"
            ]
          },
          "metadata": {
            "tags": []
          },
          "execution_count": 22
        }
      ]
    },
    {
      "cell_type": "code",
      "metadata": {
        "id": "1d_Dn7827YLi",
        "colab_type": "code",
        "colab": {}
      },
      "source": [
        "scaler = MinMaxScaler()\n",
        "scaler.fit(train)\n",
        "train = scaler.transform(train)\n",
        "test = scaler.transform(test)"
      ],
      "execution_count": 0,
      "outputs": []
    },
    {
      "cell_type": "code",
      "metadata": {
        "id": "EWRomHeW7s1Y",
        "colab_type": "code",
        "colab": {}
      },
      "source": [
        "n_input = 20\n",
        "n_features = 1\n",
        "generator = TimeseriesGenerator(train, train, length=n_input, batch_size=6)"
      ],
      "execution_count": 0,
      "outputs": []
    },
    {
      "cell_type": "code",
      "metadata": {
        "id": "bKXtni5b8DYR",
        "colab_type": "code",
        "outputId": "2b418f08-2d7b-498e-f9fb-c9da8bff16fa",
        "colab": {
          "base_uri": "https://localhost:8080/",
          "height": 382
        }
      },
      "source": [
        "model = Sequential()\n",
        "model.add(LSTM(200, activation='relu', input_shape=(n_input, n_features)))\n",
        "model.add(Dropout(0.15))\n",
        "model.add(Dense(1))\n",
        "model.compile(optimizer='adam', loss='mse')\n",
        "model.fit_generator(generator,epochs=10)"
      ],
      "execution_count": 0,
      "outputs": [
        {
          "output_type": "stream",
          "text": [
            "Epoch 1/10\n",
            "207/207 [==============================] - 12s 57ms/step - loss: 0.0223\n",
            "Epoch 2/10\n",
            "207/207 [==============================] - 11s 53ms/step - loss: 0.0030\n",
            "Epoch 3/10\n",
            "207/207 [==============================] - 11s 53ms/step - loss: 0.0026\n",
            "Epoch 4/10\n",
            "207/207 [==============================] - 11s 53ms/step - loss: 0.0032\n",
            "Epoch 5/10\n",
            "207/207 [==============================] - 11s 54ms/step - loss: 0.0025\n",
            "Epoch 6/10\n",
            "207/207 [==============================] - 11s 53ms/step - loss: 0.0024\n",
            "Epoch 7/10\n",
            "207/207 [==============================] - 11s 54ms/step - loss: 0.0022\n",
            "Epoch 8/10\n",
            "207/207 [==============================] - 11s 53ms/step - loss: 0.0019\n",
            "Epoch 9/10\n",
            "207/207 [==============================] - 11s 53ms/step - loss: 0.0019\n",
            "Epoch 10/10\n",
            "207/207 [==============================] - 11s 53ms/step - loss: 0.0022\n"
          ],
          "name": "stdout"
        },
        {
          "output_type": "execute_result",
          "data": {
            "text/plain": [
              "<keras.callbacks.History at 0x7f5359c719e8>"
            ]
          },
          "metadata": {
            "tags": []
          },
          "execution_count": 25
        }
      ]
    },
    {
      "cell_type": "code",
      "metadata": {
        "id": "nGhj_W558Ldh",
        "colab_type": "code",
        "colab": {}
      },
      "source": [
        "pred_list = []\n",
        "\n",
        "batch = train[-n_input:].reshape((1, n_input, n_features))\n",
        "\n",
        "for i in range(n_input):   \n",
        "    pred_list.append(model.predict(batch)[0]) \n",
        "    batch = np.append(batch[:,1:,:],[[pred_list[i]]],axis=1)"
      ],
      "execution_count": 0,
      "outputs": []
    },
    {
      "cell_type": "code",
      "metadata": {
        "id": "QCL03PrO9NZ2",
        "colab_type": "code",
        "colab": {}
      },
      "source": [
        "df_predict = pd.DataFrame(scaler.inverse_transform(pred_list),\n",
        "                           columns=['Prediction'])"
      ],
      "execution_count": 0,
      "outputs": []
    },
    {
      "cell_type": "code",
      "metadata": {
        "id": "Inp2WyaN9dJE",
        "colab_type": "code",
        "outputId": "889c7a5f-3660-4c4a-d192-25b1ab65d110",
        "colab": {
          "base_uri": "https://localhost:8080/",
          "height": 677
        }
      },
      "source": [
        "df_predict.head(30)"
      ],
      "execution_count": 0,
      "outputs": [
        {
          "output_type": "execute_result",
          "data": {
            "text/html": [
              "<div>\n",
              "<style scoped>\n",
              "    .dataframe tbody tr th:only-of-type {\n",
              "        vertical-align: middle;\n",
              "    }\n",
              "\n",
              "    .dataframe tbody tr th {\n",
              "        vertical-align: top;\n",
              "    }\n",
              "\n",
              "    .dataframe thead th {\n",
              "        text-align: right;\n",
              "    }\n",
              "</style>\n",
              "<table border=\"1\" class=\"dataframe\">\n",
              "  <thead>\n",
              "    <tr style=\"text-align: right;\">\n",
              "      <th></th>\n",
              "      <th>Prediction</th>\n",
              "    </tr>\n",
              "  </thead>\n",
              "  <tbody>\n",
              "    <tr>\n",
              "      <th>0</th>\n",
              "      <td>766.019155</td>\n",
              "    </tr>\n",
              "    <tr>\n",
              "      <th>1</th>\n",
              "      <td>760.930616</td>\n",
              "    </tr>\n",
              "    <tr>\n",
              "      <th>2</th>\n",
              "      <td>755.754188</td>\n",
              "    </tr>\n",
              "    <tr>\n",
              "      <th>3</th>\n",
              "      <td>750.500734</td>\n",
              "    </tr>\n",
              "    <tr>\n",
              "      <th>4</th>\n",
              "      <td>745.221391</td>\n",
              "    </tr>\n",
              "    <tr>\n",
              "      <th>5</th>\n",
              "      <td>739.964348</td>\n",
              "    </tr>\n",
              "    <tr>\n",
              "      <th>6</th>\n",
              "      <td>734.765620</td>\n",
              "    </tr>\n",
              "    <tr>\n",
              "      <th>7</th>\n",
              "      <td>729.638599</td>\n",
              "    </tr>\n",
              "    <tr>\n",
              "      <th>8</th>\n",
              "      <td>724.598410</td>\n",
              "    </tr>\n",
              "    <tr>\n",
              "      <th>9</th>\n",
              "      <td>719.644668</td>\n",
              "    </tr>\n",
              "    <tr>\n",
              "      <th>10</th>\n",
              "      <td>714.777469</td>\n",
              "    </tr>\n",
              "    <tr>\n",
              "      <th>11</th>\n",
              "      <td>710.013602</td>\n",
              "    </tr>\n",
              "    <tr>\n",
              "      <th>12</th>\n",
              "      <td>705.333427</td>\n",
              "    </tr>\n",
              "    <tr>\n",
              "      <th>13</th>\n",
              "      <td>700.749567</td>\n",
              "    </tr>\n",
              "    <tr>\n",
              "      <th>14</th>\n",
              "      <td>696.258370</td>\n",
              "    </tr>\n",
              "    <tr>\n",
              "      <th>15</th>\n",
              "      <td>691.854036</td>\n",
              "    </tr>\n",
              "    <tr>\n",
              "      <th>16</th>\n",
              "      <td>687.533554</td>\n",
              "    </tr>\n",
              "    <tr>\n",
              "      <th>17</th>\n",
              "      <td>683.296218</td>\n",
              "    </tr>\n",
              "    <tr>\n",
              "      <th>18</th>\n",
              "      <td>679.143599</td>\n",
              "    </tr>\n",
              "    <tr>\n",
              "      <th>19</th>\n",
              "      <td>675.067430</td>\n",
              "    </tr>\n",
              "  </tbody>\n",
              "</table>\n",
              "</div>"
            ],
            "text/plain": [
              "    Prediction\n",
              "0   766.019155\n",
              "1   760.930616\n",
              "2   755.754188\n",
              "3   750.500734\n",
              "4   745.221391\n",
              "5   739.964348\n",
              "6   734.765620\n",
              "7   729.638599\n",
              "8   724.598410\n",
              "9   719.644668\n",
              "10  714.777469\n",
              "11  710.013602\n",
              "12  705.333427\n",
              "13  700.749567\n",
              "14  696.258370\n",
              "15  691.854036\n",
              "16  687.533554\n",
              "17  683.296218\n",
              "18  679.143599\n",
              "19  675.067430"
            ]
          },
          "metadata": {
            "tags": []
          },
          "execution_count": 29
        }
      ]
    },
    {
      "cell_type": "markdown",
      "metadata": {
        "id": "Y9LiY29-OrBZ",
        "colab_type": "text"
      },
      "source": [
        "# SARIMAX Model\n"
      ]
    },
    {
      "cell_type": "code",
      "metadata": {
        "id": "qcQXC3eH9lot",
        "colab_type": "code",
        "colab": {}
      },
      "source": [
        "import pandas as pd\n",
        "import numpy as np\n",
        "import matplotlib.pyplot as plt\n",
        "import seaborn as sns\n",
        "from pandas.plotting import register_matplotlib_converters\n",
        "register_matplotlib_converters()\n",
        "%matplotlib inline"
      ],
      "execution_count": 0,
      "outputs": []
    },
    {
      "cell_type": "code",
      "metadata": {
        "id": "AGOK2PlUOvsA",
        "colab_type": "code",
        "colab": {
          "base_uri": "https://localhost:8080/",
          "height": 206
        },
        "outputId": "17d339cb-ab7e-42d0-8eed-00dcbfc1c311"
      },
      "source": [
        "dataset=pd.read_csv('/content/AAPL.csv')\n",
        "dataset.head()"
      ],
      "execution_count": 47,
      "outputs": [
        {
          "output_type": "execute_result",
          "data": {
            "text/html": [
              "<div>\n",
              "<style scoped>\n",
              "    .dataframe tbody tr th:only-of-type {\n",
              "        vertical-align: middle;\n",
              "    }\n",
              "\n",
              "    .dataframe tbody tr th {\n",
              "        vertical-align: top;\n",
              "    }\n",
              "\n",
              "    .dataframe thead th {\n",
              "        text-align: right;\n",
              "    }\n",
              "</style>\n",
              "<table border=\"1\" class=\"dataframe\">\n",
              "  <thead>\n",
              "    <tr style=\"text-align: right;\">\n",
              "      <th></th>\n",
              "      <th>Date</th>\n",
              "      <th>Open</th>\n",
              "      <th>High</th>\n",
              "      <th>Low</th>\n",
              "      <th>Close</th>\n",
              "      <th>Adj Close</th>\n",
              "      <th>Volume</th>\n",
              "    </tr>\n",
              "  </thead>\n",
              "  <tbody>\n",
              "    <tr>\n",
              "      <th>0</th>\n",
              "      <td>2008-10-01</td>\n",
              "      <td>15.988571</td>\n",
              "      <td>16.051428</td>\n",
              "      <td>15.341429</td>\n",
              "      <td>15.588572</td>\n",
              "      <td>13.531516</td>\n",
              "      <td>324121000</td>\n",
              "    </tr>\n",
              "    <tr>\n",
              "      <th>1</th>\n",
              "      <td>2008-10-02</td>\n",
              "      <td>15.430000</td>\n",
              "      <td>15.541429</td>\n",
              "      <td>14.285714</td>\n",
              "      <td>14.300000</td>\n",
              "      <td>12.412984</td>\n",
              "      <td>402341100</td>\n",
              "    </tr>\n",
              "    <tr>\n",
              "      <th>2</th>\n",
              "      <td>2008-10-03</td>\n",
              "      <td>14.857142</td>\n",
              "      <td>15.214286</td>\n",
              "      <td>13.521428</td>\n",
              "      <td>13.867143</td>\n",
              "      <td>12.037247</td>\n",
              "      <td>573599600</td>\n",
              "    </tr>\n",
              "    <tr>\n",
              "      <th>3</th>\n",
              "      <td>2008-10-06</td>\n",
              "      <td>13.137143</td>\n",
              "      <td>14.111428</td>\n",
              "      <td>12.505714</td>\n",
              "      <td>14.020000</td>\n",
              "      <td>12.169932</td>\n",
              "      <td>526854300</td>\n",
              "    </tr>\n",
              "    <tr>\n",
              "      <th>4</th>\n",
              "      <td>2008-10-07</td>\n",
              "      <td>14.354285</td>\n",
              "      <td>14.500000</td>\n",
              "      <td>12.707143</td>\n",
              "      <td>12.737143</td>\n",
              "      <td>11.056362</td>\n",
              "      <td>469693000</td>\n",
              "    </tr>\n",
              "  </tbody>\n",
              "</table>\n",
              "</div>"
            ],
            "text/plain": [
              "         Date       Open       High        Low      Close  Adj Close     Volume\n",
              "0  2008-10-01  15.988571  16.051428  15.341429  15.588572  13.531516  324121000\n",
              "1  2008-10-02  15.430000  15.541429  14.285714  14.300000  12.412984  402341100\n",
              "2  2008-10-03  14.857142  15.214286  13.521428  13.867143  12.037247  573599600\n",
              "3  2008-10-06  13.137143  14.111428  12.505714  14.020000  12.169932  526854300\n",
              "4  2008-10-07  14.354285  14.500000  12.707143  12.737143  11.056362  469693000"
            ]
          },
          "metadata": {
            "tags": []
          },
          "execution_count": 47
        }
      ]
    },
    {
      "cell_type": "code",
      "metadata": {
        "id": "D9ZLc45mSXsb",
        "colab_type": "code",
        "colab": {
          "base_uri": "https://localhost:8080/",
          "height": 34
        },
        "outputId": "48baf92d-1782-48c3-8978-b6c5c8ba6b97"
      },
      "source": [
        "dataset.shape"
      ],
      "execution_count": 48,
      "outputs": [
        {
          "output_type": "execute_result",
          "data": {
            "text/plain": [
              "(2768, 7)"
            ]
          },
          "metadata": {
            "tags": []
          },
          "execution_count": 48
        }
      ]
    },
    {
      "cell_type": "code",
      "metadata": {
        "id": "2NYgXy58Oy9_",
        "colab_type": "code",
        "colab": {
          "base_uri": "https://localhost:8080/",
          "height": 112
        },
        "outputId": "8b612841-6482-4f2c-d6ed-66fafb27e218"
      },
      "source": [
        "dataset[\"Mean\"] = (dataset['Low'] + dataset['High'])/2\n",
        "dataset.head(2)"
      ],
      "execution_count": 49,
      "outputs": [
        {
          "output_type": "execute_result",
          "data": {
            "text/html": [
              "<div>\n",
              "<style scoped>\n",
              "    .dataframe tbody tr th:only-of-type {\n",
              "        vertical-align: middle;\n",
              "    }\n",
              "\n",
              "    .dataframe tbody tr th {\n",
              "        vertical-align: top;\n",
              "    }\n",
              "\n",
              "    .dataframe thead th {\n",
              "        text-align: right;\n",
              "    }\n",
              "</style>\n",
              "<table border=\"1\" class=\"dataframe\">\n",
              "  <thead>\n",
              "    <tr style=\"text-align: right;\">\n",
              "      <th></th>\n",
              "      <th>Date</th>\n",
              "      <th>Open</th>\n",
              "      <th>High</th>\n",
              "      <th>Low</th>\n",
              "      <th>Close</th>\n",
              "      <th>Adj Close</th>\n",
              "      <th>Volume</th>\n",
              "      <th>Mean</th>\n",
              "    </tr>\n",
              "  </thead>\n",
              "  <tbody>\n",
              "    <tr>\n",
              "      <th>0</th>\n",
              "      <td>2008-10-01</td>\n",
              "      <td>15.988571</td>\n",
              "      <td>16.051428</td>\n",
              "      <td>15.341429</td>\n",
              "      <td>15.588572</td>\n",
              "      <td>13.531516</td>\n",
              "      <td>324121000</td>\n",
              "      <td>15.696429</td>\n",
              "    </tr>\n",
              "    <tr>\n",
              "      <th>1</th>\n",
              "      <td>2008-10-02</td>\n",
              "      <td>15.430000</td>\n",
              "      <td>15.541429</td>\n",
              "      <td>14.285714</td>\n",
              "      <td>14.300000</td>\n",
              "      <td>12.412984</td>\n",
              "      <td>402341100</td>\n",
              "      <td>14.913572</td>\n",
              "    </tr>\n",
              "  </tbody>\n",
              "</table>\n",
              "</div>"
            ],
            "text/plain": [
              "         Date       Open       High  ...  Adj Close     Volume       Mean\n",
              "0  2008-10-01  15.988571  16.051428  ...  13.531516  324121000  15.696429\n",
              "1  2008-10-02  15.430000  15.541429  ...  12.412984  402341100  14.913572\n",
              "\n",
              "[2 rows x 8 columns]"
            ]
          },
          "metadata": {
            "tags": []
          },
          "execution_count": 49
        }
      ]
    },
    {
      "cell_type": "code",
      "metadata": {
        "id": "Xb6CoOa5O57A",
        "colab_type": "code",
        "colab": {
          "base_uri": "https://localhost:8080/",
          "height": 243
        },
        "outputId": "4243b2f3-da34-4577-e993-31facc4ba4b7"
      },
      "source": [
        "dataset.info()"
      ],
      "execution_count": 50,
      "outputs": [
        {
          "output_type": "stream",
          "text": [
            "<class 'pandas.core.frame.DataFrame'>\n",
            "RangeIndex: 2768 entries, 0 to 2767\n",
            "Data columns (total 8 columns):\n",
            "Date         2768 non-null object\n",
            "Open         2768 non-null float64\n",
            "High         2768 non-null float64\n",
            "Low          2768 non-null float64\n",
            "Close        2768 non-null float64\n",
            "Adj Close    2768 non-null float64\n",
            "Volume       2768 non-null int64\n",
            "Mean         2768 non-null float64\n",
            "dtypes: float64(6), int64(1), object(1)\n",
            "memory usage: 173.1+ KB\n"
          ],
          "name": "stdout"
        }
      ]
    },
    {
      "cell_type": "code",
      "metadata": {
        "id": "zI7RUhSpPHJh",
        "colab_type": "code",
        "colab": {
          "base_uri": "https://localhost:8080/",
          "height": 144
        },
        "outputId": "1795efb2-8f62-4550-880b-a93e1b1e9dc3"
      },
      "source": [
        "steps=-1\n",
        "dataset_for_prediction= dataset.copy()\n",
        "dataset_for_prediction['Actual']=dataset_for_prediction['Mean'].shift(steps)\n",
        "dataset_for_prediction.head(3)"
      ],
      "execution_count": 51,
      "outputs": [
        {
          "output_type": "execute_result",
          "data": {
            "text/html": [
              "<div>\n",
              "<style scoped>\n",
              "    .dataframe tbody tr th:only-of-type {\n",
              "        vertical-align: middle;\n",
              "    }\n",
              "\n",
              "    .dataframe tbody tr th {\n",
              "        vertical-align: top;\n",
              "    }\n",
              "\n",
              "    .dataframe thead th {\n",
              "        text-align: right;\n",
              "    }\n",
              "</style>\n",
              "<table border=\"1\" class=\"dataframe\">\n",
              "  <thead>\n",
              "    <tr style=\"text-align: right;\">\n",
              "      <th></th>\n",
              "      <th>Date</th>\n",
              "      <th>Open</th>\n",
              "      <th>High</th>\n",
              "      <th>Low</th>\n",
              "      <th>Close</th>\n",
              "      <th>Adj Close</th>\n",
              "      <th>Volume</th>\n",
              "      <th>Mean</th>\n",
              "      <th>Actual</th>\n",
              "    </tr>\n",
              "  </thead>\n",
              "  <tbody>\n",
              "    <tr>\n",
              "      <th>0</th>\n",
              "      <td>2008-10-01</td>\n",
              "      <td>15.988571</td>\n",
              "      <td>16.051428</td>\n",
              "      <td>15.341429</td>\n",
              "      <td>15.588572</td>\n",
              "      <td>13.531516</td>\n",
              "      <td>324121000</td>\n",
              "      <td>15.696429</td>\n",
              "      <td>14.913572</td>\n",
              "    </tr>\n",
              "    <tr>\n",
              "      <th>1</th>\n",
              "      <td>2008-10-02</td>\n",
              "      <td>15.430000</td>\n",
              "      <td>15.541429</td>\n",
              "      <td>14.285714</td>\n",
              "      <td>14.300000</td>\n",
              "      <td>12.412984</td>\n",
              "      <td>402341100</td>\n",
              "      <td>14.913572</td>\n",
              "      <td>14.367857</td>\n",
              "    </tr>\n",
              "    <tr>\n",
              "      <th>2</th>\n",
              "      <td>2008-10-03</td>\n",
              "      <td>14.857142</td>\n",
              "      <td>15.214286</td>\n",
              "      <td>13.521428</td>\n",
              "      <td>13.867143</td>\n",
              "      <td>12.037247</td>\n",
              "      <td>573599600</td>\n",
              "      <td>14.367857</td>\n",
              "      <td>13.308571</td>\n",
              "    </tr>\n",
              "  </tbody>\n",
              "</table>\n",
              "</div>"
            ],
            "text/plain": [
              "         Date       Open       High  ...     Volume       Mean     Actual\n",
              "0  2008-10-01  15.988571  16.051428  ...  324121000  15.696429  14.913572\n",
              "1  2008-10-02  15.430000  15.541429  ...  402341100  14.913572  14.367857\n",
              "2  2008-10-03  14.857142  15.214286  ...  573599600  14.367857  13.308571\n",
              "\n",
              "[3 rows x 9 columns]"
            ]
          },
          "metadata": {
            "tags": []
          },
          "execution_count": 51
        }
      ]
    },
    {
      "cell_type": "code",
      "metadata": {
        "id": "zPVQLrEcPNY4",
        "colab_type": "code",
        "colab": {}
      },
      "source": [
        "dataset_for_prediction['Date'] =pd.to_datetime(dataset_for_prediction['Date'])\n",
        "dataset_for_prediction.index= dataset_for_prediction['Date']"
      ],
      "execution_count": 0,
      "outputs": []
    },
    {
      "cell_type": "code",
      "metadata": {
        "id": "w6DPfSVcPtTd",
        "colab_type": "code",
        "colab": {
          "base_uri": "https://localhost:8080/",
          "height": 175
        },
        "outputId": "32c5b4df-3d2b-4d33-dd80-d79ff31db434"
      },
      "source": [
        "dataset_for_prediction.head(3)"
      ],
      "execution_count": 53,
      "outputs": [
        {
          "output_type": "execute_result",
          "data": {
            "text/html": [
              "<div>\n",
              "<style scoped>\n",
              "    .dataframe tbody tr th:only-of-type {\n",
              "        vertical-align: middle;\n",
              "    }\n",
              "\n",
              "    .dataframe tbody tr th {\n",
              "        vertical-align: top;\n",
              "    }\n",
              "\n",
              "    .dataframe thead th {\n",
              "        text-align: right;\n",
              "    }\n",
              "</style>\n",
              "<table border=\"1\" class=\"dataframe\">\n",
              "  <thead>\n",
              "    <tr style=\"text-align: right;\">\n",
              "      <th></th>\n",
              "      <th>Date</th>\n",
              "      <th>Open</th>\n",
              "      <th>High</th>\n",
              "      <th>Low</th>\n",
              "      <th>Close</th>\n",
              "      <th>Adj Close</th>\n",
              "      <th>Volume</th>\n",
              "      <th>Mean</th>\n",
              "      <th>Actual</th>\n",
              "    </tr>\n",
              "    <tr>\n",
              "      <th>Date</th>\n",
              "      <th></th>\n",
              "      <th></th>\n",
              "      <th></th>\n",
              "      <th></th>\n",
              "      <th></th>\n",
              "      <th></th>\n",
              "      <th></th>\n",
              "      <th></th>\n",
              "      <th></th>\n",
              "    </tr>\n",
              "  </thead>\n",
              "  <tbody>\n",
              "    <tr>\n",
              "      <th>2008-10-01</th>\n",
              "      <td>2008-10-01</td>\n",
              "      <td>15.988571</td>\n",
              "      <td>16.051428</td>\n",
              "      <td>15.341429</td>\n",
              "      <td>15.588572</td>\n",
              "      <td>13.531516</td>\n",
              "      <td>324121000</td>\n",
              "      <td>15.696429</td>\n",
              "      <td>14.913572</td>\n",
              "    </tr>\n",
              "    <tr>\n",
              "      <th>2008-10-02</th>\n",
              "      <td>2008-10-02</td>\n",
              "      <td>15.430000</td>\n",
              "      <td>15.541429</td>\n",
              "      <td>14.285714</td>\n",
              "      <td>14.300000</td>\n",
              "      <td>12.412984</td>\n",
              "      <td>402341100</td>\n",
              "      <td>14.913572</td>\n",
              "      <td>14.367857</td>\n",
              "    </tr>\n",
              "    <tr>\n",
              "      <th>2008-10-03</th>\n",
              "      <td>2008-10-03</td>\n",
              "      <td>14.857142</td>\n",
              "      <td>15.214286</td>\n",
              "      <td>13.521428</td>\n",
              "      <td>13.867143</td>\n",
              "      <td>12.037247</td>\n",
              "      <td>573599600</td>\n",
              "      <td>14.367857</td>\n",
              "      <td>13.308571</td>\n",
              "    </tr>\n",
              "  </tbody>\n",
              "</table>\n",
              "</div>"
            ],
            "text/plain": [
              "                 Date       Open       High  ...     Volume       Mean     Actual\n",
              "Date                                         ...                                 \n",
              "2008-10-01 2008-10-01  15.988571  16.051428  ...  324121000  15.696429  14.913572\n",
              "2008-10-02 2008-10-02  15.430000  15.541429  ...  402341100  14.913572  14.367857\n",
              "2008-10-03 2008-10-03  14.857142  15.214286  ...  573599600  14.367857  13.308571\n",
              "\n",
              "[3 rows x 9 columns]"
            ]
          },
          "metadata": {
            "tags": []
          },
          "execution_count": 53
        }
      ]
    },
    {
      "cell_type": "code",
      "metadata": {
        "id": "IbAnZ4PJPkPZ",
        "colab_type": "code",
        "colab": {
          "base_uri": "https://localhost:8080/",
          "height": 204
        },
        "outputId": "ea249837-c527-41d2-982d-498772363593"
      },
      "source": [
        "dataset_for_prediction['Mean'].plot(color='green', figsize=(15,2))\n",
        "plt.legend(['Next day value','Mean'])\n",
        "plt.title(\"Tyson Opening Stock Value\")\n",
        "\n",
        "\n"
      ],
      "execution_count": 54,
      "outputs": [
        {
          "output_type": "execute_result",
          "data": {
            "text/plain": [
              "Text(0.5, 1.0, 'Tyson Opening Stock Value')"
            ]
          },
          "metadata": {
            "tags": []
          },
          "execution_count": 54
        },
        {
          "output_type": "display_data",
          "data": {
            "image/png": "[encoded data removed]",
            "text/plain": [
              "<Figure size 1080x144 with 1 Axes>"
            ]
          },
          "metadata": {
            "tags": []
          }
        }
      ]
    },
    {
      "cell_type": "code",
      "metadata": {
        "id": "g7EUMfuDQXmc",
        "colab_type": "code",
        "colab": {}
      },
      "source": [
        ""
      ],
      "execution_count": 0,
      "outputs": []
    },
    {
      "cell_type": "code",
      "metadata": {
        "id": "od8iKTR4Qe2y",
        "colab_type": "code",
        "colab": {}
      },
      "source": [
        "from sklearn.preprocessing import MinMaxScaler\n",
        "sc_in = MinMaxScaler(feature_range=(0, 1))\n",
        "scaled_input = sc_in.fit_transform(dataset_for_prediction[['Low', 'High','Open','Close','Volume','Adj Close','Mean',]])\n",
        "scaled_input =pd.DataFrame(scaled_input)\n",
        "X= scaled_input"
      ],
      "execution_count": 0,
      "outputs": []
    },
    {
      "cell_type": "code",
      "metadata": {
        "id": "GLtlzzYvQe6a",
        "colab_type": "code",
        "colab": {}
      },
      "source": [
        "sc_out = MinMaxScaler(feature_range=(0, 1))\n",
        "scaler_output = sc_out.fit_transform(dataset_for_prediction[['Actual']])\n",
        "scaler_output =pd.DataFrame(scaler_output)\n",
        "y=scaler_output"
      ],
      "execution_count": 0,
      "outputs": []
    },
    {
      "cell_type": "code",
      "metadata": {
        "id": "jPWK4ridTAky",
        "colab_type": "code",
        "colab": {
          "base_uri": "https://localhost:8080/",
          "height": 144
        },
        "outputId": "7125584d-8e20-4c80-9c0f-ab9e09aebfd9"
      },
      "source": [
        "X.rename(columns={0:'Low', 1:'High', 2:'Open', 3:'Close', 4:'Volume', 5:'Adj Close', 6:'Mean'}, inplace=True)\n",
        "X.index=dataset_for_prediction.index\n",
        "\n",
        "X.head(2)"
      ],
      "execution_count": 88,
      "outputs": [
        {
          "output_type": "execute_result",
          "data": {
            "text/html": [
              "<div>\n",
              "<style scoped>\n",
              "    .dataframe tbody tr th:only-of-type {\n",
              "        vertical-align: middle;\n",
              "    }\n",
              "\n",
              "    .dataframe tbody tr th {\n",
              "        vertical-align: top;\n",
              "    }\n",
              "\n",
              "    .dataframe thead th {\n",
              "        text-align: right;\n",
              "    }\n",
              "</style>\n",
              "<table border=\"1\" class=\"dataframe\">\n",
              "  <thead>\n",
              "    <tr style=\"text-align: right;\">\n",
              "      <th></th>\n",
              "      <th>Low</th>\n",
              "      <th>High</th>\n",
              "      <th>Open</th>\n",
              "      <th>Close</th>\n",
              "      <th>Volume</th>\n",
              "      <th>Adj Close</th>\n",
              "      <th>Mean</th>\n",
              "    </tr>\n",
              "    <tr>\n",
              "      <th>Date</th>\n",
              "      <th></th>\n",
              "      <th></th>\n",
              "      <th></th>\n",
              "      <th></th>\n",
              "      <th></th>\n",
              "      <th></th>\n",
              "      <th></th>\n",
              "    </tr>\n",
              "  </thead>\n",
              "  <tbody>\n",
              "    <tr>\n",
              "      <th>2008-10-01</th>\n",
              "      <td>0.019075</td>\n",
              "      <td>0.019558</td>\n",
              "      <td>0.021177</td>\n",
              "      <td>0.019996</td>\n",
              "      <td>0.556275</td>\n",
              "      <td>0.01762</td>\n",
              "      <td>0.019318</td>\n",
              "    </tr>\n",
              "    <tr>\n",
              "      <th>2008-10-02</th>\n",
              "      <td>0.014246</td>\n",
              "      <td>0.017258</td>\n",
              "      <td>0.018632</td>\n",
              "      <td>0.014163</td>\n",
              "      <td>0.695398</td>\n",
              "      <td>0.01248</td>\n",
              "      <td>0.015763</td>\n",
              "    </tr>\n",
              "  </tbody>\n",
              "</table>\n",
              "</div>"
            ],
            "text/plain": [
              "                 Low      High      Open  ...    Volume  Adj Close      Mean\n",
              "Date                                      ...                               \n",
              "2008-10-01  0.019075  0.019558  0.021177  ...  0.556275    0.01762  0.019318\n",
              "2008-10-02  0.014246  0.017258  0.018632  ...  0.695398    0.01248  0.015763\n",
              "\n",
              "[2 rows x 7 columns]"
            ]
          },
          "metadata": {
            "tags": []
          },
          "execution_count": 88
        }
      ]
    },
    {
      "cell_type": "code",
      "metadata": {
        "id": "jzr1l86xTJd_",
        "colab_type": "code",
        "colab": {
          "base_uri": "https://localhost:8080/",
          "height": 144
        },
        "outputId": "bb01a5ff-7592-46f7-f500-814ad869f979"
      },
      "source": [
        "y.rename(columns={0:'Stock Price next day'}, inplace= True)\n",
        "y.index=dataset_for_prediction.index\n",
        "y.head(2)"
      ],
      "execution_count": 89,
      "outputs": [
        {
          "output_type": "execute_result",
          "data": {
            "text/html": [
              "<div>\n",
              "<style scoped>\n",
              "    .dataframe tbody tr th:only-of-type {\n",
              "        vertical-align: middle;\n",
              "    }\n",
              "\n",
              "    .dataframe tbody tr th {\n",
              "        vertical-align: top;\n",
              "    }\n",
              "\n",
              "    .dataframe thead th {\n",
              "        text-align: right;\n",
              "    }\n",
              "</style>\n",
              "<table border=\"1\" class=\"dataframe\">\n",
              "  <thead>\n",
              "    <tr style=\"text-align: right;\">\n",
              "      <th></th>\n",
              "      <th>Stock Price next day</th>\n",
              "    </tr>\n",
              "    <tr>\n",
              "      <th>Date</th>\n",
              "      <th></th>\n",
              "    </tr>\n",
              "  </thead>\n",
              "  <tbody>\n",
              "    <tr>\n",
              "      <th>2008-10-01</th>\n",
              "      <td>0.015763</td>\n",
              "    </tr>\n",
              "    <tr>\n",
              "      <th>2008-10-02</th>\n",
              "      <td>0.013284</td>\n",
              "    </tr>\n",
              "  </tbody>\n",
              "</table>\n",
              "</div>"
            ],
            "text/plain": [
              "            Stock Price next day\n",
              "Date                            \n",
              "2008-10-01              0.015763\n",
              "2008-10-02              0.013284"
            ]
          },
          "metadata": {
            "tags": []
          },
          "execution_count": 89
        }
      ]
    },
    {
      "cell_type": "code",
      "metadata": {
        "id": "5tm4BQVqTPEk",
        "colab_type": "code",
        "colab": {}
      },
      "source": [
        "train_size=int(len(dataset) *0.7)\n",
        "test_size = int(len(dataset))-train_size\n",
        "train_X, train_y = X[:train_size].dropna(), y[:train_size].dropna()\n",
        "test_X, test_y = X[train_size:].dropna(), y[train_size:].dropna()"
      ],
      "execution_count": 0,
      "outputs": []
    },
    {
      "cell_type": "code",
      "metadata": {
        "id": "CfU2xQY3W5Dr",
        "colab_type": "code",
        "colab": {
          "base_uri": "https://localhost:8080/",
          "height": 238
        },
        "outputId": "e7be7fbe-e5ae-4026-b6ac-9e18b2d26bae"
      },
      "source": [
        "train_X.head()"
      ],
      "execution_count": 91,
      "outputs": [
        {
          "output_type": "execute_result",
          "data": {
            "text/html": [
              "<div>\n",
              "<style scoped>\n",
              "    .dataframe tbody tr th:only-of-type {\n",
              "        vertical-align: middle;\n",
              "    }\n",
              "\n",
              "    .dataframe tbody tr th {\n",
              "        vertical-align: top;\n",
              "    }\n",
              "\n",
              "    .dataframe thead th {\n",
              "        text-align: right;\n",
              "    }\n",
              "</style>\n",
              "<table border=\"1\" class=\"dataframe\">\n",
              "  <thead>\n",
              "    <tr style=\"text-align: right;\">\n",
              "      <th></th>\n",
              "      <th>Low</th>\n",
              "      <th>High</th>\n",
              "      <th>Open</th>\n",
              "      <th>Close</th>\n",
              "      <th>Volume</th>\n",
              "      <th>Adj Close</th>\n",
              "      <th>Mean</th>\n",
              "    </tr>\n",
              "    <tr>\n",
              "      <th>Date</th>\n",
              "      <th></th>\n",
              "      <th></th>\n",
              "      <th></th>\n",
              "      <th></th>\n",
              "      <th></th>\n",
              "      <th></th>\n",
              "      <th></th>\n",
              "    </tr>\n",
              "  </thead>\n",
              "  <tbody>\n",
              "    <tr>\n",
              "      <th>2008-10-01</th>\n",
              "      <td>0.019075</td>\n",
              "      <td>0.019558</td>\n",
              "      <td>0.021177</td>\n",
              "      <td>0.019996</td>\n",
              "      <td>0.556275</td>\n",
              "      <td>0.017620</td>\n",
              "      <td>0.019318</td>\n",
              "    </tr>\n",
              "    <tr>\n",
              "      <th>2008-10-02</th>\n",
              "      <td>0.014246</td>\n",
              "      <td>0.017258</td>\n",
              "      <td>0.018632</td>\n",
              "      <td>0.014163</td>\n",
              "      <td>0.695398</td>\n",
              "      <td>0.012480</td>\n",
              "      <td>0.015763</td>\n",
              "    </tr>\n",
              "    <tr>\n",
              "      <th>2008-10-03</th>\n",
              "      <td>0.010750</td>\n",
              "      <td>0.015783</td>\n",
              "      <td>0.016021</td>\n",
              "      <td>0.012203</td>\n",
              "      <td>1.000000</td>\n",
              "      <td>0.010753</td>\n",
              "      <td>0.013284</td>\n",
              "    </tr>\n",
              "    <tr>\n",
              "      <th>2008-10-06</th>\n",
              "      <td>0.006104</td>\n",
              "      <td>0.010810</td>\n",
              "      <td>0.008183</td>\n",
              "      <td>0.012895</td>\n",
              "      <td>0.916858</td>\n",
              "      <td>0.011363</td>\n",
              "      <td>0.008474</td>\n",
              "    </tr>\n",
              "    <tr>\n",
              "      <th>2008-10-07</th>\n",
              "      <td>0.007025</td>\n",
              "      <td>0.012562</td>\n",
              "      <td>0.013730</td>\n",
              "      <td>0.007088</td>\n",
              "      <td>0.815191</td>\n",
              "      <td>0.006246</td>\n",
              "      <td>0.009813</td>\n",
              "    </tr>\n",
              "  </tbody>\n",
              "</table>\n",
              "</div>"
            ],
            "text/plain": [
              "                 Low      High      Open  ...    Volume  Adj Close      Mean\n",
              "Date                                      ...                               \n",
              "2008-10-01  0.019075  0.019558  0.021177  ...  0.556275   0.017620  0.019318\n",
              "2008-10-02  0.014246  0.017258  0.018632  ...  0.695398   0.012480  0.015763\n",
              "2008-10-03  0.010750  0.015783  0.016021  ...  1.000000   0.010753  0.013284\n",
              "2008-10-06  0.006104  0.010810  0.008183  ...  0.916858   0.011363  0.008474\n",
              "2008-10-07  0.007025  0.012562  0.013730  ...  0.815191   0.006246  0.009813\n",
              "\n",
              "[5 rows x 7 columns]"
            ]
          },
          "metadata": {
            "tags": []
          },
          "execution_count": 91
        }
      ]
    },
    {
      "cell_type": "code",
      "metadata": {
        "id": "8JXkiLMuT8wt",
        "colab_type": "code",
        "colab": {
          "base_uri": "https://localhost:8080/",
          "height": 434
        },
        "outputId": "5b6c5a44-4f5d-412f-83b2-3c3b87a59bca"
      },
      "source": [
        "!pip install pmdarima\n",
        "from pmdarima.arima import auto_arima\n",
        "step_wise=auto_arima(train_y, \n",
        " exogenous= train_X,\n",
        " start_p=1, start_q=1, \n",
        " max_p=7, max_q=7, \n",
        " d=1, max_d=7,\n",
        " trace=True, \n",
        " error_action='ignore', \n",
        " suppress_warnings=True, \n",
        " stepwise=True)"
      ],
      "execution_count": 92,
      "outputs": [
        {
          "output_type": "stream",
          "text": [
            "Requirement already satisfied: pmdarima in /usr/local/lib/python3.6/dist-packages (1.5.3)\n",
            "Requirement already satisfied: numpy>=1.17.3 in /usr/local/lib/python3.6/dist-packages (from pmdarima) (1.18.1)\n",
            "Requirement already satisfied: Cython>=0.29 in /usr/local/lib/python3.6/dist-packages (from pmdarima) (0.29.15)\n",
            "Requirement already satisfied: scipy>=1.3.2 in /usr/local/lib/python3.6/dist-packages (from pmdarima) (1.4.1)\n",
            "Requirement already satisfied: scikit-learn>=0.22 in /usr/local/lib/python3.6/dist-packages (from pmdarima) (0.22.2.post1)\n",
            "Requirement already satisfied: urllib3 in /usr/local/lib/python3.6/dist-packages (from pmdarima) (1.24.3)\n",
            "Requirement already satisfied: joblib>=0.11 in /usr/local/lib/python3.6/dist-packages (from pmdarima) (0.14.1)\n",
            "Requirement already satisfied: statsmodels>=0.10.2 in /usr/local/lib/python3.6/dist-packages (from pmdarima) (0.10.2)\n",
            "Requirement already satisfied: pandas>=0.19 in /usr/local/lib/python3.6/dist-packages (from pmdarima) (0.25.3)\n",
            "Requirement already satisfied: patsy>=0.4.0 in /usr/local/lib/python3.6/dist-packages (from statsmodels>=0.10.2->pmdarima) (0.5.1)\n",
            "Requirement already satisfied: pytz>=2017.2 in /usr/local/lib/python3.6/dist-packages (from pandas>=0.19->pmdarima) (2018.9)\n",
            "Requirement already satisfied: python-dateutil>=2.6.1 in /usr/local/lib/python3.6/dist-packages (from pandas>=0.19->pmdarima) (2.8.1)\n",
            "Requirement already satisfied: six in /usr/local/lib/python3.6/dist-packages (from patsy>=0.4.0->statsmodels>=0.10.2->pmdarima) (1.12.0)\n",
            "Performing stepwise search to minimize aic\n",
            "Fit ARIMA: (1, 1, 1)x(0, 0, 0, 0) (constant=True); AIC=-15584.598, BIC=-15523.346, Time=5.813 seconds\n",
            "Fit ARIMA: (0, 1, 0)x(0, 0, 0, 0) (constant=True); AIC=-15557.800, BIC=-15507.685, Time=0.835 seconds\n",
            "Fit ARIMA: (1, 1, 0)x(0, 0, 0, 0) (constant=True); AIC=-15572.044, BIC=-15516.360, Time=3.323 seconds\n",
            "Fit ARIMA: (0, 1, 1)x(0, 0, 0, 0) (constant=True); AIC=-15571.535, BIC=-15515.851, Time=1.811 seconds\n",
            "Fit ARIMA: (0, 1, 0)x(0, 0, 0, 0) (constant=False); AIC=-15557.479, BIC=-15512.932, Time=2.133 seconds\n",
            "Fit ARIMA: (2, 1, 1)x(0, 0, 0, 0) (constant=True); AIC=-15612.080, BIC=-15545.260, Time=5.659 seconds\n",
            "Fit ARIMA: (2, 1, 0)x(0, 0, 0, 0) (constant=True); AIC=-15620.094, BIC=-15558.842, Time=6.086 seconds\n",
            "Fit ARIMA: (3, 1, 0)x(0, 0, 0, 0) (constant=True); AIC=-15600.103, BIC=-15533.282, Time=6.489 seconds\n",
            "Fit ARIMA: (3, 1, 1)x(0, 0, 0, 0) (constant=True); AIC=-15565.803, BIC=-15493.414, Time=2.956 seconds\n",
            "Total fit time: 35.117 seconds\n"
          ],
          "name": "stdout"
        }
      ]
    },
    {
      "cell_type": "code",
      "metadata": {
        "id": "VxWm2-8hUxBk",
        "colab_type": "code",
        "colab": {
          "base_uri": "https://localhost:8080/",
          "height": 619
        },
        "outputId": "307b5991-d74e-4d7f-b45c-580db8cff46f"
      },
      "source": [
        "step_wise.summary()"
      ],
      "execution_count": 93,
      "outputs": [
        {
          "output_type": "execute_result",
          "data": {
            "text/html": [
              "<table class=\"simpletable\">\n",
              "<caption>Statespace Model Results</caption>\n",
              "<tr>\n",
              "  <th>Dep. Variable:</th>           <td>y</td>        <th>  No. Observations:  </th>    <td>1937</td>   \n",
              "</tr>\n",
              "<tr>\n",
              "  <th>Model:</th>           <td>SARIMAX(2, 1, 0)</td> <th>  Log Likelihood     </th>  <td>7821.047</td> \n",
              "</tr>\n",
              "<tr>\n",
              "  <th>Date:</th>            <td>Tue, 17 Mar 2020</td> <th>  AIC                </th> <td>-15620.094</td>\n",
              "</tr>\n",
              "<tr>\n",
              "  <th>Time:</th>                <td>21:33:45</td>     <th>  BIC                </th> <td>-15558.842</td>\n",
              "</tr>\n",
              "<tr>\n",
              "  <th>Sample:</th>                  <td>0</td>        <th>  HQIC               </th> <td>-15597.567</td>\n",
              "</tr>\n",
              "<tr>\n",
              "  <th></th>                      <td> - 1937</td>     <th>                     </th>      <td> </td>    \n",
              "</tr>\n",
              "<tr>\n",
              "  <th>Covariance Type:</th>        <td>opg</td>       <th>                     </th>      <td> </td>    \n",
              "</tr>\n",
              "</table>\n",
              "<table class=\"simpletable\">\n",
              "<tr>\n",
              "      <td></td>         <th>coef</th>     <th>std err</th>      <th>z</th>      <th>P>|z|</th>  <th>[0.025</th>    <th>0.975]</th>  \n",
              "</tr>\n",
              "<tr>\n",
              "  <th>intercept</th> <td>    0.0002</td> <td>    0.000</td> <td>    1.782</td> <td> 0.075</td> <td>-1.95e-05</td> <td>    0.000</td>\n",
              "</tr>\n",
              "<tr>\n",
              "  <th>Low</th>       <td>   -0.0090</td> <td>    0.026</td> <td>   -0.347</td> <td> 0.729</td> <td>   -0.060</td> <td>    0.042</td>\n",
              "</tr>\n",
              "<tr>\n",
              "  <th>High</th>      <td>   -0.0659</td> <td>    0.030</td> <td>   -2.183</td> <td> 0.029</td> <td>   -0.125</td> <td>   -0.007</td>\n",
              "</tr>\n",
              "<tr>\n",
              "  <th>Open</th>      <td>   -0.0814</td> <td>    0.028</td> <td>   -2.953</td> <td> 0.003</td> <td>   -0.135</td> <td>   -0.027</td>\n",
              "</tr>\n",
              "<tr>\n",
              "  <th>Close</th>     <td>    0.7811</td> <td>    0.369</td> <td>    2.119</td> <td> 0.034</td> <td>    0.059</td> <td>    1.503</td>\n",
              "</tr>\n",
              "<tr>\n",
              "  <th>Volume</th>    <td>    0.0006</td> <td>    0.001</td> <td>    0.445</td> <td> 0.656</td> <td>   -0.002</td> <td>    0.003</td>\n",
              "</tr>\n",
              "<tr>\n",
              "  <th>Adj Close</th> <td>   -0.0833</td> <td>    0.392</td> <td>   -0.213</td> <td> 0.831</td> <td>   -0.851</td> <td>    0.684</td>\n",
              "</tr>\n",
              "<tr>\n",
              "  <th>Mean</th>      <td>   -0.0376</td> <td>    0.020</td> <td>   -1.849</td> <td> 0.064</td> <td>   -0.078</td> <td>    0.002</td>\n",
              "</tr>\n",
              "<tr>\n",
              "  <th>ar.L1</th>     <td>   -0.3746</td> <td>    0.038</td> <td>   -9.938</td> <td> 0.000</td> <td>   -0.448</td> <td>   -0.301</td>\n",
              "</tr>\n",
              "<tr>\n",
              "  <th>ar.L2</th>     <td>   -0.0905</td> <td>    0.032</td> <td>   -2.823</td> <td> 0.005</td> <td>   -0.153</td> <td>   -0.028</td>\n",
              "</tr>\n",
              "<tr>\n",
              "  <th>sigma2</th>    <td> 1.839e-05</td> <td> 2.24e-07</td> <td>   81.944</td> <td> 0.000</td> <td> 1.79e-05</td> <td> 1.88e-05</td>\n",
              "</tr>\n",
              "</table>\n",
              "<table class=\"simpletable\">\n",
              "<tr>\n",
              "  <th>Ljung-Box (Q):</th>          <td>59.81</td> <th>  Jarque-Bera (JB):  </th> <td>16881.12</td>\n",
              "</tr>\n",
              "<tr>\n",
              "  <th>Prob(Q):</th>                <td>0.02</td>  <th>  Prob(JB):          </th>   <td>0.00</td>  \n",
              "</tr>\n",
              "<tr>\n",
              "  <th>Heteroskedasticity (H):</th> <td>7.40</td>  <th>  Skew:              </th>   <td>-0.45</td> \n",
              "</tr>\n",
              "<tr>\n",
              "  <th>Prob(H) (two-sided):</th>    <td>0.00</td>  <th>  Kurtosis:          </th>   <td>17.44</td> \n",
              "</tr>\n",
              "</table><br/><br/>Warnings:<br/>[1] Covariance matrix calculated using the outer product of gradients (complex-step).<br/>[2] Covariance matrix is singular or near-singular, with condition number 9.4e+17. Standard errors may be unstable."
            ],
            "text/plain": [
              "<class 'statsmodels.iolib.summary.Summary'>\n",
              "\"\"\"\n",
              "                           Statespace Model Results                           \n",
              "==============================================================================\n",
              "Dep. Variable:                      y   No. Observations:                 1937\n",
              "Model:               SARIMAX(2, 1, 0)   Log Likelihood                7821.047\n",
              "Date:                Tue, 17 Mar 2020   AIC                         -15620.094\n",
              "Time:                        21:33:45   BIC                         -15558.842\n",
              "Sample:                             0   HQIC                        -15597.567\n",
              "                               - 1937                                         \n",
              "Covariance Type:                  opg                                         \n",
              "==============================================================================\n",
              "                 coef    std err          z      P>|z|      [0.025      0.975]\n",
              "------------------------------------------------------------------------------\n",
              "intercept      0.0002      0.000      1.782      0.075   -1.95e-05       0.000\n",
              "Low           -0.0090      0.026     -0.347      0.729      -0.060       0.042\n",
              "High          -0.0659      0.030     -2.183      0.029      -0.125      -0.007\n",
              "Open          -0.0814      0.028     -2.953      0.003      -0.135      -0.027\n",
              "Close          0.7811      0.369      2.119      0.034       0.059       1.503\n",
              "Volume         0.0006      0.001      0.445      0.656      -0.002       0.003\n",
              "Adj Close     -0.0833      0.392     -0.213      0.831      -0.851       0.684\n",
              "Mean          -0.0376      0.020     -1.849      0.064      -0.078       0.002\n",
              "ar.L1         -0.3746      0.038     -9.938      0.000      -0.448      -0.301\n",
              "ar.L2         -0.0905      0.032     -2.823      0.005      -0.153      -0.028\n",
              "sigma2      1.839e-05   2.24e-07     81.944      0.000    1.79e-05    1.88e-05\n",
              "===================================================================================\n",
              "Ljung-Box (Q):                       59.81   Jarque-Bera (JB):             16881.12\n",
              "Prob(Q):                              0.02   Prob(JB):                         0.00\n",
              "Heteroskedasticity (H):               7.40   Skew:                            -0.45\n",
              "Prob(H) (two-sided):                  0.00   Kurtosis:                        17.44\n",
              "===================================================================================\n",
              "\n",
              "Warnings:\n",
              "[1] Covariance matrix calculated using the outer product of gradients (complex-step).\n",
              "[2] Covariance matrix is singular or near-singular, with condition number 9.4e+17. Standard errors may be unstable.\n",
              "\"\"\""
            ]
          },
          "metadata": {
            "tags": []
          },
          "execution_count": 93
        }
      ]
    },
    {
      "cell_type": "code",
      "metadata": {
        "id": "kyryaPM3YUuG",
        "colab_type": "code",
        "colab": {
          "base_uri": "https://localhost:8080/",
          "height": 238
        },
        "outputId": "d7c35af3-d82b-49d9-d325-7fc21388738f"
      },
      "source": [
        "train_y.head()"
      ],
      "execution_count": 86,
      "outputs": [
        {
          "output_type": "execute_result",
          "data": {
            "text/html": [
              "<div>\n",
              "<style scoped>\n",
              "    .dataframe tbody tr th:only-of-type {\n",
              "        vertical-align: middle;\n",
              "    }\n",
              "\n",
              "    .dataframe tbody tr th {\n",
              "        vertical-align: top;\n",
              "    }\n",
              "\n",
              "    .dataframe thead th {\n",
              "        text-align: right;\n",
              "    }\n",
              "</style>\n",
              "<table border=\"1\" class=\"dataframe\">\n",
              "  <thead>\n",
              "    <tr style=\"text-align: right;\">\n",
              "      <th></th>\n",
              "      <th>Stock Price next day</th>\n",
              "    </tr>\n",
              "    <tr>\n",
              "      <th>Date</th>\n",
              "      <th></th>\n",
              "    </tr>\n",
              "  </thead>\n",
              "  <tbody>\n",
              "    <tr>\n",
              "      <th>2008-10-01</th>\n",
              "      <td>0.015763</td>\n",
              "    </tr>\n",
              "    <tr>\n",
              "      <th>2008-10-02</th>\n",
              "      <td>0.013284</td>\n",
              "    </tr>\n",
              "    <tr>\n",
              "      <th>2008-10-03</th>\n",
              "      <td>0.008474</td>\n",
              "    </tr>\n",
              "    <tr>\n",
              "      <th>2008-10-06</th>\n",
              "      <td>0.009813</td>\n",
              "    </tr>\n",
              "    <tr>\n",
              "      <th>2008-10-07</th>\n",
              "      <td>0.007075</td>\n",
              "    </tr>\n",
              "  </tbody>\n",
              "</table>\n",
              "</div>"
            ],
            "text/plain": [
              "            Stock Price next day\n",
              "Date                            \n",
              "2008-10-01              0.015763\n",
              "2008-10-02              0.013284\n",
              "2008-10-03              0.008474\n",
              "2008-10-06              0.009813\n",
              "2008-10-07              0.007075"
            ]
          },
          "metadata": {
            "tags": []
          },
          "execution_count": 86
        }
      ]
    },
    {
      "cell_type": "code",
      "metadata": {
        "id": "eeTnN-LGVLQ5",
        "colab_type": "code",
        "colab": {
          "base_uri": "https://localhost:8080/",
          "height": 72
        },
        "outputId": "a22b0297-9fff-4f75-987b-ad7cd1fd4388"
      },
      "source": [
        "from statsmodels.tsa.statespace.sarimax import SARIMAX\n",
        "\n",
        "model= SARIMAX(train_y, \n",
        " exog=train_X,\n",
        " order=(2,1,0),\n",
        " enforce_invertibility=False, enforce_stationarity=False)"
      ],
      "execution_count": 94,
      "outputs": [
        {
          "output_type": "stream",
          "text": [
            "/usr/local/lib/python3.6/dist-packages/statsmodels/tsa/base/tsa_model.py:219: ValueWarning: A date index has been provided, but it has no associated frequency information and so will be ignored when e.g. forecasting.\n",
            "  ' ignored when e.g. forecasting.', ValueWarning)\n"
          ],
          "name": "stderr"
        }
      ]
    },
    {
      "cell_type": "code",
      "metadata": {
        "id": "3ZCXWeVBVLj7",
        "colab_type": "code",
        "colab": {}
      },
      "source": [
        "results= model.fit()"
      ],
      "execution_count": 0,
      "outputs": []
    },
    {
      "cell_type": "code",
      "metadata": {
        "id": "C_kkCKnPbCu1",
        "colab_type": "code",
        "colab": {
          "base_uri": "https://localhost:8080/",
          "height": 238
        },
        "outputId": "66fdb4e8-0e81-4a98-f4cb-8ef6e72369c9"
      },
      "source": [
        "test_X.head()"
      ],
      "execution_count": 101,
      "outputs": [
        {
          "output_type": "execute_result",
          "data": {
            "text/html": [
              "<div>\n",
              "<style scoped>\n",
              "    .dataframe tbody tr th:only-of-type {\n",
              "        vertical-align: middle;\n",
              "    }\n",
              "\n",
              "    .dataframe tbody tr th {\n",
              "        vertical-align: top;\n",
              "    }\n",
              "\n",
              "    .dataframe thead th {\n",
              "        text-align: right;\n",
              "    }\n",
              "</style>\n",
              "<table border=\"1\" class=\"dataframe\">\n",
              "  <thead>\n",
              "    <tr style=\"text-align: right;\">\n",
              "      <th></th>\n",
              "      <th>Low</th>\n",
              "      <th>High</th>\n",
              "      <th>Open</th>\n",
              "      <th>Close</th>\n",
              "      <th>Volume</th>\n",
              "      <th>Adj Close</th>\n",
              "      <th>Mean</th>\n",
              "    </tr>\n",
              "    <tr>\n",
              "      <th>Date</th>\n",
              "      <th></th>\n",
              "      <th></th>\n",
              "      <th></th>\n",
              "      <th></th>\n",
              "      <th></th>\n",
              "      <th></th>\n",
              "      <th></th>\n",
              "    </tr>\n",
              "  </thead>\n",
              "  <tbody>\n",
              "    <tr>\n",
              "      <th>2016-06-13</th>\n",
              "      <td>0.393070</td>\n",
              "      <td>0.394153</td>\n",
              "      <td>0.398055</td>\n",
              "      <td>0.390082</td>\n",
              "      <td>0.047415</td>\n",
              "      <td>0.377278</td>\n",
              "      <td>0.393616</td>\n",
              "    </tr>\n",
              "    <tr>\n",
              "      <th>2016-06-14</th>\n",
              "      <td>0.391469</td>\n",
              "      <td>0.391267</td>\n",
              "      <td>0.391812</td>\n",
              "      <td>0.390625</td>\n",
              "      <td>0.036586</td>\n",
              "      <td>0.377798</td>\n",
              "      <td>0.391368</td>\n",
              "    </tr>\n",
              "    <tr>\n",
              "      <th>2016-06-15</th>\n",
              "      <td>0.392750</td>\n",
              "      <td>0.390951</td>\n",
              "      <td>0.394090</td>\n",
              "      <td>0.389177</td>\n",
              "      <td>0.032163</td>\n",
              "      <td>0.376411</td>\n",
              "      <td>0.391844</td>\n",
              "    </tr>\n",
              "    <tr>\n",
              "      <th>2016-06-16</th>\n",
              "      <td>0.388359</td>\n",
              "      <td>0.387975</td>\n",
              "      <td>0.387847</td>\n",
              "      <td>0.391033</td>\n",
              "      <td>0.035510</td>\n",
              "      <td>0.378188</td>\n",
              "      <td>0.388166</td>\n",
              "    </tr>\n",
              "    <tr>\n",
              "      <th>2016-06-17</th>\n",
              "      <td>0.384837</td>\n",
              "      <td>0.383015</td>\n",
              "      <td>0.388622</td>\n",
              "      <td>0.380983</td>\n",
              "      <td>0.088301</td>\n",
              "      <td>0.368567</td>\n",
              "      <td>0.383919</td>\n",
              "    </tr>\n",
              "  </tbody>\n",
              "</table>\n",
              "</div>"
            ],
            "text/plain": [
              "                 Low      High      Open  ...    Volume  Adj Close      Mean\n",
              "Date                                      ...                               \n",
              "2016-06-13  0.393070  0.394153  0.398055  ...  0.047415   0.377278  0.393616\n",
              "2016-06-14  0.391469  0.391267  0.391812  ...  0.036586   0.377798  0.391368\n",
              "2016-06-15  0.392750  0.390951  0.394090  ...  0.032163   0.376411  0.391844\n",
              "2016-06-16  0.388359  0.387975  0.387847  ...  0.035510   0.378188  0.388166\n",
              "2016-06-17  0.384837  0.383015  0.388622  ...  0.088301   0.368567  0.383919\n",
              "\n",
              "[5 rows x 7 columns]"
            ]
          },
          "metadata": {
            "tags": []
          },
          "execution_count": 101
        }
      ]
    },
    {
      "cell_type": "code",
      "metadata": {
        "id": "YcmKhDW1VLzn",
        "colab_type": "code",
        "colab": {
          "base_uri": "https://localhost:8080/",
          "height": 72
        },
        "outputId": "4aa96685-7f37-4b2e-aa47-fe13d99e43cd"
      },
      "source": [
        "predictions= results.predict(start =train_size, end=train_size+test_size+(steps)-1,exog=test_X[:830])"
      ],
      "execution_count": 116,
      "outputs": [
        {
          "output_type": "stream",
          "text": [
            "/usr/local/lib/python3.6/dist-packages/statsmodels/tsa/base/tsa_model.py:576: ValueWarning: No supported index is available. Prediction results will be given with an integer index beginning at `start`.\n",
            "  ValueWarning)\n"
          ],
          "name": "stderr"
        }
      ]
    },
    {
      "cell_type": "code",
      "metadata": {
        "id": "NUlG6Dsjc_Mx",
        "colab_type": "code",
        "colab": {
          "base_uri": "https://localhost:8080/",
          "height": 34
        },
        "outputId": "a9d50e59-1e88-4b6a-f35a-b8e9df4e0484"
      },
      "source": [
        "predictions.shape,test_X.shape"
      ],
      "execution_count": 121,
      "outputs": [
        {
          "output_type": "execute_result",
          "data": {
            "text/plain": [
              "((830,), (830, 7))"
            ]
          },
          "metadata": {
            "tags": []
          },
          "execution_count": 121
        }
      ]
    },
    {
      "cell_type": "code",
      "metadata": {
        "id": "b6wmWIq-dbar",
        "colab_type": "code",
        "colab": {}
      },
      "source": [
        "test_X=test_X[:830]"
      ],
      "execution_count": 0,
      "outputs": []
    },
    {
      "cell_type": "code",
      "metadata": {
        "id": "vdHRgIHZb-bX",
        "colab_type": "code",
        "colab": {}
      },
      "source": [
        "act= pd.DataFrame(scaler_output.iloc[train_size:, 0])"
      ],
      "execution_count": 0,
      "outputs": []
    },
    {
      "cell_type": "code",
      "metadata": {
        "id": "seS8IW2AcBeh",
        "colab_type": "code",
        "colab": {}
      },
      "source": [
        "predictions=pd.DataFrame(predictions)\n",
        "predictions.reset_index(drop=True, inplace=True)\n",
        "predictions.index=test_X.index\n",
        "predictions['Actual'] = act['Stock Price next day']\n",
        "predictions.rename(columns={0:'Pred'}, inplace=True)"
      ],
      "execution_count": 0,
      "outputs": []
    },
    {
      "cell_type": "code",
      "metadata": {
        "id": "PLBiibSOcI5q",
        "colab_type": "code",
        "colab": {
          "base_uri": "https://localhost:8080/",
          "height": 490
        },
        "outputId": "a409b6fa-bb44-48e8-cdca-6cdce5c704ce"
      },
      "source": [
        "predictions['Actual'].plot(figsize=(20,8), legend=True, color='blue')\n",
        "predictions['Pred'].plot(legend=True, color='red', figsize=(20,8))"
      ],
      "execution_count": 127,
      "outputs": [
        {
          "output_type": "execute_result",
          "data": {
            "text/plain": [
              "<matplotlib.axes._subplots.AxesSubplot at 0x7fb0eedb3940>"
            ]
          },
          "metadata": {
            "tags": []
          },
          "execution_count": 127
        },
        {
          "output_type": "display_data",
          "data": {
            "image/png": "[encoded data removed]",
            "text/plain": [
              "<Figure size 1440x576 with 1 Axes>"
            ]
          },
          "metadata": {
            "tags": []
          }
        }
      ]
    },
    {
      "cell_type": "code",
      "metadata": {
        "id": "OIfJxU0jdj7K",
        "colab_type": "code",
        "colab": {}
      },
      "source": [
        ""
      ],
      "execution_count": 0,
      "outputs": []
    }
  ]
}