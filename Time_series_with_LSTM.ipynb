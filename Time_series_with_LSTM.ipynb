{
  "nbformat": 4,
  "nbformat_minor": 0,
  "metadata": {
    "colab": {
      "name": "Time series with LSTM.ipynb",
      "provenance": [],
      "mount_file_id": "1tWR7UngQi7PEbYJ9wc_688N_klGWZboC",
      "authorship_tag": "ABX9TyOO57l788Qg4gq145nnw5l3",
      "include_colab_link": true
    },
    "kernelspec": {
      "name": "python3",
      "display_name": "Python 3"
    },
    "accelerator": "GPU"
  },
  "cells": [
    {
      "cell_type": "markdown",
      "metadata": {
        "id": "view-in-github",
        "colab_type": "text"
      },
      "source": [
        "<a href=\"https://colab.research.google.com/github/haythemtellili/Great-notebook/blob/master/Time_series_with_LSTM.ipynb\" target=\"_parent\"><img src=\"https://colab.research.google.com/assets/colab-badge.svg\" alt=\"Open In Colab\"/></a>"
      ]
    },
    {
      "cell_type": "code",
      "metadata": {
        "id": "KrJV-QSxBnMI",
        "colab_type": "code",
        "colab": {}
      },
      "source": [
        "import numpy as np\n",
        "import pandas as pd\n",
        "import matplotlib.pyplot as plt\n",
        "%matplotlib inline\n",
        "from statsmodels.tools.eval_measures import rmse\n",
        "from sklearn.preprocessing import MinMaxScaler\n",
        "from keras.preprocessing.sequence import TimeseriesGenerator\n",
        "from keras.models import Sequential\n",
        "from keras.layers import Dense\n",
        "from keras.layers import LSTM\n",
        "from keras.layers import Dropout"
      ],
      "execution_count": 0,
      "outputs": []
    },
    {
      "cell_type": "code",
      "metadata": {
        "id": "DEFidDG5uR1g",
        "colab_type": "code",
        "colab": {
          "base_uri": "https://localhost:8080/",
          "height": 206
        },
        "outputId": "ee668ab1-598c-4c25-bcf3-5421d2b3aca7"
      },
      "source": [
        "df = pd.read_csv('/content/AirPassengers.csv')\n",
        "df.head()"
      ],
      "execution_count": 4,
      "outputs": [
        {
          "output_type": "execute_result",
          "data": {
            "text/html": [
              "<div>\n",
              "<style scoped>\n",
              "    .dataframe tbody tr th:only-of-type {\n",
              "        vertical-align: middle;\n",
              "    }\n",
              "\n",
              "    .dataframe tbody tr th {\n",
              "        vertical-align: top;\n",
              "    }\n",
              "\n",
              "    .dataframe thead th {\n",
              "        text-align: right;\n",
              "    }\n",
              "</style>\n",
              "<table border=\"1\" class=\"dataframe\">\n",
              "  <thead>\n",
              "    <tr style=\"text-align: right;\">\n",
              "      <th></th>\n",
              "      <th>Month</th>\n",
              "      <th>AirPassengers</th>\n",
              "    </tr>\n",
              "  </thead>\n",
              "  <tbody>\n",
              "    <tr>\n",
              "      <th>0</th>\n",
              "      <td>1949-01</td>\n",
              "      <td>112</td>\n",
              "    </tr>\n",
              "    <tr>\n",
              "      <th>1</th>\n",
              "      <td>1949-02</td>\n",
              "      <td>118</td>\n",
              "    </tr>\n",
              "    <tr>\n",
              "      <th>2</th>\n",
              "      <td>1949-03</td>\n",
              "      <td>132</td>\n",
              "    </tr>\n",
              "    <tr>\n",
              "      <th>3</th>\n",
              "      <td>1949-04</td>\n",
              "      <td>129</td>\n",
              "    </tr>\n",
              "    <tr>\n",
              "      <th>4</th>\n",
              "      <td>1949-05</td>\n",
              "      <td>121</td>\n",
              "    </tr>\n",
              "  </tbody>\n",
              "</table>\n",
              "</div>"
            ],
            "text/plain": [
              "     Month  AirPassengers\n",
              "0  1949-01            112\n",
              "1  1949-02            118\n",
              "2  1949-03            132\n",
              "3  1949-04            129\n",
              "4  1949-05            121"
            ]
          },
          "metadata": {
            "tags": []
          },
          "execution_count": 4
        }
      ]
    },
    {
      "cell_type": "code",
      "metadata": {
        "id": "l_wlEh55uRzQ",
        "colab_type": "code",
        "colab": {}
      },
      "source": [
        "df.Month = pd.to_datetime(df.Month)\n",
        "df = df.set_index(\"Month\")"
      ],
      "execution_count": 0,
      "outputs": []
    },
    {
      "cell_type": "code",
      "metadata": {
        "id": "ADkCmpWeuRxN",
        "colab_type": "code",
        "colab": {
          "base_uri": "https://localhost:8080/",
          "height": 34
        },
        "outputId": "0dbd48a9-01d7-4e31-e2cc-ea948b7d8375"
      },
      "source": [
        "df.shape"
      ],
      "execution_count": 6,
      "outputs": [
        {
          "output_type": "execute_result",
          "data": {
            "text/plain": [
              "(144, 1)"
            ]
          },
          "metadata": {
            "tags": []
          },
          "execution_count": 6
        }
      ]
    },
    {
      "cell_type": "code",
      "metadata": {
        "id": "omarHgqmuRur",
        "colab_type": "code",
        "colab": {}
      },
      "source": [
        "train, test = df[:-12], df[-12:]"
      ],
      "execution_count": 0,
      "outputs": []
    },
    {
      "cell_type": "code",
      "metadata": {
        "id": "_LFFOPIhuRrL",
        "colab_type": "code",
        "colab": {}
      },
      "source": [
        "scaler = MinMaxScaler()\n",
        "scaler.fit(train)\n",
        "train = scaler.transform(train)\n",
        "test = scaler.transform(test)"
      ],
      "execution_count": 0,
      "outputs": []
    },
    {
      "cell_type": "code",
      "metadata": {
        "id": "Cf_Wig5RvCkk",
        "colab_type": "code",
        "colab": {}
      },
      "source": [
        "n_input = 12\n",
        "n_features = 1\n",
        "generator = TimeseriesGenerator(train, train, length=n_input, batch_size=6)"
      ],
      "execution_count": 0,
      "outputs": []
    },
    {
      "cell_type": "code",
      "metadata": {
        "id": "3fIdbhYG2daX",
        "colab_type": "code",
        "colab": {
          "base_uri": "https://localhost:8080/",
          "height": 263
        },
        "outputId": "60c12f3e-7f2e-4159-dc50-6faa3cab181d"
      },
      "source": [
        "model = Sequential()\n",
        "model.add(LSTM(200, activation='relu', input_shape=(n_input, n_features)))\n",
        "model.add(Dropout(0.15))\n",
        "model.add(Dense(1))\n",
        "model.compile(optimizer='adam', loss='mse')"
      ],
      "execution_count": 10,
      "outputs": [
        {
          "output_type": "stream",
          "text": [
            "WARNING:tensorflow:From /usr/local/lib/python3.6/dist-packages/keras/backend/tensorflow_backend.py:66: The name tf.get_default_graph is deprecated. Please use tf.compat.v1.get_default_graph instead.\n",
            "\n",
            "WARNING:tensorflow:From /usr/local/lib/python3.6/dist-packages/keras/backend/tensorflow_backend.py:541: The name tf.placeholder is deprecated. Please use tf.compat.v1.placeholder instead.\n",
            "\n",
            "WARNING:tensorflow:From /usr/local/lib/python3.6/dist-packages/keras/backend/tensorflow_backend.py:4432: The name tf.random_uniform is deprecated. Please use tf.random.uniform instead.\n",
            "\n",
            "WARNING:tensorflow:From /usr/local/lib/python3.6/dist-packages/keras/backend/tensorflow_backend.py:148: The name tf.placeholder_with_default is deprecated. Please use tf.compat.v1.placeholder_with_default instead.\n",
            "\n",
            "WARNING:tensorflow:From /usr/local/lib/python3.6/dist-packages/keras/backend/tensorflow_backend.py:3733: calling dropout (from tensorflow.python.ops.nn_ops) with keep_prob is deprecated and will be removed in a future version.\n",
            "Instructions for updating:\n",
            "Please use `rate` instead of `keep_prob`. Rate should be set to `rate = 1 - keep_prob`.\n",
            "WARNING:tensorflow:From /usr/local/lib/python3.6/dist-packages/keras/optimizers.py:793: The name tf.train.Optimizer is deprecated. Please use tf.compat.v1.train.Optimizer instead.\n",
            "\n"
          ],
          "name": "stdout"
        }
      ]
    },
    {
      "cell_type": "code",
      "metadata": {
        "id": "fT_WLWsu2gyQ",
        "colab_type": "code",
        "colab": {
          "base_uri": "https://localhost:8080/",
          "height": 1000
        },
        "outputId": "42b85357-da58-47ab-a774-85f6260bd144"
      },
      "source": [
        "model.fit_generator(generator,epochs=90)"
      ],
      "execution_count": 11,
      "outputs": [
        {
          "output_type": "stream",
          "text": [
            "WARNING:tensorflow:From /usr/local/lib/python3.6/dist-packages/tensorflow_core/python/ops/math_grad.py:1424: where (from tensorflow.python.ops.array_ops) is deprecated and will be removed in a future version.\n",
            "Instructions for updating:\n",
            "Use tf.where in 2.0, which has the same broadcast rule as np.where\n",
            "WARNING:tensorflow:From /usr/local/lib/python3.6/dist-packages/keras/backend/tensorflow_backend.py:1033: The name tf.assign_add is deprecated. Please use tf.compat.v1.assign_add instead.\n",
            "\n",
            "WARNING:tensorflow:From /usr/local/lib/python3.6/dist-packages/keras/backend/tensorflow_backend.py:1020: The name tf.assign is deprecated. Please use tf.compat.v1.assign instead.\n",
            "\n",
            "WARNING:tensorflow:From /usr/local/lib/python3.6/dist-packages/keras/backend/tensorflow_backend.py:3005: The name tf.Session is deprecated. Please use tf.compat.v1.Session instead.\n",
            "\n",
            "Epoch 1/90\n",
            "WARNING:tensorflow:From /usr/local/lib/python3.6/dist-packages/keras/backend/tensorflow_backend.py:190: The name tf.get_default_session is deprecated. Please use tf.compat.v1.get_default_session instead.\n",
            "\n",
            "WARNING:tensorflow:From /usr/local/lib/python3.6/dist-packages/keras/backend/tensorflow_backend.py:197: The name tf.ConfigProto is deprecated. Please use tf.compat.v1.ConfigProto instead.\n",
            "\n",
            "WARNING:tensorflow:From /usr/local/lib/python3.6/dist-packages/keras/backend/tensorflow_backend.py:207: The name tf.global_variables is deprecated. Please use tf.compat.v1.global_variables instead.\n",
            "\n",
            "WARNING:tensorflow:From /usr/local/lib/python3.6/dist-packages/keras/backend/tensorflow_backend.py:216: The name tf.is_variable_initialized is deprecated. Please use tf.compat.v1.is_variable_initialized instead.\n",
            "\n",
            "WARNING:tensorflow:From /usr/local/lib/python3.6/dist-packages/keras/backend/tensorflow_backend.py:223: The name tf.variables_initializer is deprecated. Please use tf.compat.v1.variables_initializer instead.\n",
            "\n",
            "20/20 [==============================] - 10s 476ms/step - loss: 0.0793\n",
            "Epoch 2/90\n",
            "20/20 [==============================] - 1s 28ms/step - loss: 0.0204\n",
            "Epoch 3/90\n",
            "20/20 [==============================] - 1s 28ms/step - loss: 0.0178\n",
            "Epoch 4/90\n",
            "20/20 [==============================] - 1s 29ms/step - loss: 0.0106\n",
            "Epoch 5/90\n",
            "20/20 [==============================] - 1s 27ms/step - loss: 0.0124\n",
            "Epoch 6/90\n",
            "20/20 [==============================] - 1s 29ms/step - loss: 0.0104\n",
            "Epoch 7/90\n",
            "20/20 [==============================] - 1s 28ms/step - loss: 0.0099\n",
            "Epoch 8/90\n",
            "20/20 [==============================] - 1s 29ms/step - loss: 0.0099\n",
            "Epoch 9/90\n",
            "20/20 [==============================] - 1s 29ms/step - loss: 0.0094\n",
            "Epoch 10/90\n",
            "20/20 [==============================] - 1s 28ms/step - loss: 0.0097\n",
            "Epoch 11/90\n",
            "20/20 [==============================] - 1s 28ms/step - loss: 0.0086\n",
            "Epoch 12/90\n",
            "20/20 [==============================] - 1s 29ms/step - loss: 0.0101\n",
            "Epoch 13/90\n",
            "20/20 [==============================] - 1s 28ms/step - loss: 0.0088\n",
            "Epoch 14/90\n",
            "20/20 [==============================] - 1s 28ms/step - loss: 0.0103\n",
            "Epoch 15/90\n",
            "20/20 [==============================] - 1s 28ms/step - loss: 0.0075\n",
            "Epoch 16/90\n",
            "20/20 [==============================] - 1s 29ms/step - loss: 0.0094\n",
            "Epoch 17/90\n",
            "20/20 [==============================] - 1s 28ms/step - loss: 0.0064\n",
            "Epoch 18/90\n",
            "20/20 [==============================] - 1s 28ms/step - loss: 0.0076\n",
            "Epoch 19/90\n",
            "20/20 [==============================] - 1s 28ms/step - loss: 0.0090\n",
            "Epoch 20/90\n",
            "20/20 [==============================] - 1s 28ms/step - loss: 0.0094\n",
            "Epoch 21/90\n",
            "20/20 [==============================] - 1s 28ms/step - loss: 0.0075\n",
            "Epoch 22/90\n",
            "20/20 [==============================] - 1s 28ms/step - loss: 0.0091\n",
            "Epoch 23/90\n",
            "20/20 [==============================] - 1s 28ms/step - loss: 0.0076\n",
            "Epoch 24/90\n",
            "20/20 [==============================] - 1s 28ms/step - loss: 0.0049\n",
            "Epoch 25/90\n",
            "20/20 [==============================] - 1s 28ms/step - loss: 0.0052\n",
            "Epoch 26/90\n",
            "20/20 [==============================] - 1s 29ms/step - loss: 0.0054\n",
            "Epoch 27/90\n",
            "20/20 [==============================] - 1s 28ms/step - loss: 0.0063\n",
            "Epoch 28/90\n",
            "20/20 [==============================] - 1s 28ms/step - loss: 0.0065\n",
            "Epoch 29/90\n",
            "20/20 [==============================] - 1s 28ms/step - loss: 0.0060\n",
            "Epoch 30/90\n",
            "20/20 [==============================] - 1s 29ms/step - loss: 0.0067\n",
            "Epoch 31/90\n",
            "20/20 [==============================] - 1s 28ms/step - loss: 0.0164\n",
            "Epoch 32/90\n",
            "20/20 [==============================] - 1s 28ms/step - loss: 0.0077\n",
            "Epoch 33/90\n",
            "20/20 [==============================] - 1s 28ms/step - loss: 0.0045\n",
            "Epoch 34/90\n",
            "20/20 [==============================] - 1s 28ms/step - loss: 0.0026\n",
            "Epoch 35/90\n",
            "20/20 [==============================] - 1s 29ms/step - loss: 0.0051\n",
            "Epoch 36/90\n",
            "20/20 [==============================] - 1s 28ms/step - loss: 0.0048\n",
            "Epoch 37/90\n",
            "20/20 [==============================] - 1s 28ms/step - loss: 0.0043\n",
            "Epoch 38/90\n",
            "20/20 [==============================] - 1s 27ms/step - loss: 0.0039\n",
            "Epoch 39/90\n",
            "20/20 [==============================] - 1s 29ms/step - loss: 0.0024\n",
            "Epoch 40/90\n",
            "20/20 [==============================] - 1s 28ms/step - loss: 0.0057\n",
            "Epoch 41/90\n",
            "20/20 [==============================] - 1s 28ms/step - loss: 0.0075\n",
            "Epoch 42/90\n",
            "20/20 [==============================] - 1s 28ms/step - loss: 0.0029\n",
            "Epoch 43/90\n",
            "20/20 [==============================] - 1s 27ms/step - loss: 0.0040\n",
            "Epoch 44/90\n",
            "20/20 [==============================] - 1s 28ms/step - loss: 0.0027\n",
            "Epoch 45/90\n",
            "20/20 [==============================] - 1s 28ms/step - loss: 0.0036\n",
            "Epoch 46/90\n",
            "20/20 [==============================] - 1s 28ms/step - loss: 0.0046\n",
            "Epoch 47/90\n",
            "20/20 [==============================] - 1s 27ms/step - loss: 0.0029\n",
            "Epoch 48/90\n",
            "20/20 [==============================] - 1s 29ms/step - loss: 0.0029\n",
            "Epoch 49/90\n",
            "20/20 [==============================] - 1s 28ms/step - loss: 0.0030\n",
            "Epoch 50/90\n",
            "20/20 [==============================] - 1s 28ms/step - loss: 0.0148\n",
            "Epoch 51/90\n",
            "20/20 [==============================] - 1s 28ms/step - loss: 0.0114\n",
            "Epoch 52/90\n",
            "20/20 [==============================] - 1s 28ms/step - loss: 0.0053\n",
            "Epoch 53/90\n",
            "20/20 [==============================] - 1s 29ms/step - loss: 0.0035\n",
            "Epoch 54/90\n",
            "20/20 [==============================] - 1s 28ms/step - loss: 0.0035\n",
            "Epoch 55/90\n",
            "20/20 [==============================] - 1s 28ms/step - loss: 0.0037\n",
            "Epoch 56/90\n",
            "20/20 [==============================] - 1s 28ms/step - loss: 0.0029\n",
            "Epoch 57/90\n",
            "20/20 [==============================] - 1s 28ms/step - loss: 0.0030\n",
            "Epoch 58/90\n",
            "20/20 [==============================] - 1s 28ms/step - loss: 0.0032\n",
            "Epoch 59/90\n",
            "20/20 [==============================] - 1s 29ms/step - loss: 0.0023\n",
            "Epoch 60/90\n",
            "20/20 [==============================] - 1s 28ms/step - loss: 0.0044\n",
            "Epoch 61/90\n",
            "20/20 [==============================] - 1s 28ms/step - loss: 0.0031\n",
            "Epoch 62/90\n",
            "20/20 [==============================] - 1s 28ms/step - loss: 0.0051\n",
            "Epoch 63/90\n",
            "20/20 [==============================] - 1s 28ms/step - loss: 0.0035\n",
            "Epoch 64/90\n",
            "20/20 [==============================] - 1s 29ms/step - loss: 0.0028\n",
            "Epoch 65/90\n",
            "20/20 [==============================] - 1s 27ms/step - loss: 0.0030\n",
            "Epoch 66/90\n",
            "20/20 [==============================] - 1s 28ms/step - loss: 0.0024\n",
            "Epoch 67/90\n",
            "20/20 [==============================] - 1s 28ms/step - loss: 0.0027\n",
            "Epoch 68/90\n",
            "20/20 [==============================] - 1s 28ms/step - loss: 0.0020\n",
            "Epoch 69/90\n",
            "20/20 [==============================] - 1s 27ms/step - loss: 0.0023\n",
            "Epoch 70/90\n",
            "20/20 [==============================] - 1s 29ms/step - loss: 0.0025\n",
            "Epoch 71/90\n",
            "20/20 [==============================] - 1s 28ms/step - loss: 0.0020\n",
            "Epoch 72/90\n",
            "20/20 [==============================] - 1s 28ms/step - loss: 0.0023\n",
            "Epoch 73/90\n",
            "20/20 [==============================] - 1s 29ms/step - loss: 0.0022\n",
            "Epoch 74/90\n",
            "20/20 [==============================] - 1s 28ms/step - loss: 0.0038\n",
            "Epoch 75/90\n",
            "20/20 [==============================] - 1s 29ms/step - loss: 0.0087\n",
            "Epoch 76/90\n",
            "20/20 [==============================] - 1s 27ms/step - loss: 0.0042\n",
            "Epoch 77/90\n",
            "20/20 [==============================] - 1s 29ms/step - loss: 0.0053\n",
            "Epoch 78/90\n",
            "20/20 [==============================] - 1s 27ms/step - loss: 0.0032\n",
            "Epoch 79/90\n",
            "20/20 [==============================] - 1s 29ms/step - loss: 0.0018\n",
            "Epoch 80/90\n",
            "20/20 [==============================] - 1s 28ms/step - loss: 0.0024\n",
            "Epoch 81/90\n",
            "20/20 [==============================] - 1s 28ms/step - loss: 0.0023\n",
            "Epoch 82/90\n",
            "20/20 [==============================] - 1s 28ms/step - loss: 0.0021\n",
            "Epoch 83/90\n",
            "20/20 [==============================] - 1s 28ms/step - loss: 0.0024\n",
            "Epoch 84/90\n",
            "20/20 [==============================] - 1s 28ms/step - loss: 0.0024\n",
            "Epoch 85/90\n",
            "20/20 [==============================] - 1s 29ms/step - loss: 0.0016\n",
            "Epoch 86/90\n",
            "20/20 [==============================] - 1s 29ms/step - loss: 0.0026\n",
            "Epoch 87/90\n",
            "20/20 [==============================] - 1s 28ms/step - loss: 0.0036\n",
            "Epoch 88/90\n",
            "20/20 [==============================] - 1s 28ms/step - loss: 0.0041\n",
            "Epoch 89/90\n",
            "20/20 [==============================] - 1s 28ms/step - loss: 0.0030\n",
            "Epoch 90/90\n",
            "20/20 [==============================] - 1s 29ms/step - loss: 0.0022\n"
          ],
          "name": "stdout"
        },
        {
          "output_type": "execute_result",
          "data": {
            "text/plain": [
              "<keras.callbacks.History at 0x7fc28e97bb70>"
            ]
          },
          "metadata": {
            "tags": []
          },
          "execution_count": 11
        }
      ]
    },
    {
      "cell_type": "code",
      "metadata": {
        "id": "AMCC8xzD2sE0",
        "colab_type": "code",
        "colab": {}
      },
      "source": [
        "pred_list = []\n",
        "\n",
        "batch = train[-n_input:].reshape((1, n_input, n_features))\n",
        "\n",
        "for i in range(n_input):   \n",
        "    pred_list.append(model.predict(batch)[0]) \n",
        "    batch = np.append(batch[:,1:,:],[[pred_list[i]]],axis=1)"
      ],
      "execution_count": 0,
      "outputs": []
    },
    {
      "cell_type": "code",
      "metadata": {
        "id": "qagJAiRm_PE0",
        "colab_type": "code",
        "colab": {}
      },
      "source": [
        "df_predict = pd.DataFrame(scaler.inverse_transform(pred_list),\n",
        "                          index=df[-n_input:].index, columns=['Prediction'])\n",
        "data = pd.concat([df,df_predict], axis=1)"
      ],
      "execution_count": 0,
      "outputs": []
    },
    {
      "cell_type": "code",
      "metadata": {
        "id": "qZvj-P2_AFvr",
        "colab_type": "code",
        "colab": {
          "base_uri": "https://localhost:8080/",
          "height": 350
        },
        "outputId": "c20739ad-6655-41ff-b732-b54740a83d96"
      },
      "source": [
        "plt.figure(figsize=(16, 5))\n",
        "plt.plot(data.index, data['AirPassengers'])\n",
        "plt.plot(data.index, data['Prediction'], color='r')\n",
        "plt.legend(loc='best', fontsize='xx-large')\n",
        "plt.xticks(fontsize=18)\n",
        "plt.yticks(fontsize=16)\n",
        "plt.show()"
      ],
      "execution_count": 29,
      "outputs": [
        {
          "output_type": "stream",
          "text": [
            "No handles with labels found to put in legend.\n"
          ],
          "name": "stderr"
        },
        {
          "output_type": "display_data",
          "data": {
            "image/png": "[encoded data removed]",
            "text/plain": [
              "<Figure size 1152x360 with 1 Axes>"
            ]
          },
          "metadata": {
            "tags": []
          }
        }
      ]
    },
    {
      "cell_type": "markdown",
      "metadata": {
        "id": "evIWzyc96lBg",
        "colab_type": "text"
      },
      "source": [
        "# Stock price prediction"
      ]
    },
    {
      "cell_type": "code",
      "metadata": {
        "id": "F49ACr1IBTaK",
        "colab_type": "code",
        "colab": {
          "base_uri": "https://localhost:8080/",
          "height": 139
        },
        "outputId": "9f1b3e70-685e-444d-8151-500a89d66f31"
      },
      "source": [
        "!unzip \"/content/drive/My Drive/Stock-Price-Prediction-using-Keras-and-Recurrent-Neural-Networ-master.zip\""
      ],
      "execution_count": 1,
      "outputs": [
        {
          "output_type": "stream",
          "text": [
            "Archive:  /content/drive/My Drive/Stock-Price-Prediction-using-Keras-and-Recurrent-Neural-Networ-master.zip\n",
            "6918aaafb1b11e5087b8424e1a50f4028268a4ea\n",
            "   creating: Stock-Price-Prediction-using-Keras-and-Recurrent-Neural-Networ-master/\n",
            "  inflating: Stock-Price-Prediction-using-Keras-and-Recurrent-Neural-Networ-master/Google_Stock_Price_Test.csv  \n",
            "  inflating: Stock-Price-Prediction-using-Keras-and-Recurrent-Neural-Networ-master/Google_Stock_Price_Train.csv  \n",
            "  inflating: Stock-Price-Prediction-using-Keras-and-Recurrent-Neural-Networ-master/README.md  \n",
            "  inflating: Stock-Price-Prediction-using-Keras-and-Recurrent-Neural-Networ-master/rnn.py  \n"
          ],
          "name": "stdout"
        }
      ]
    },
    {
      "cell_type": "code",
      "metadata": {
        "id": "9qKrIWoS58Qj",
        "colab_type": "code",
        "colab": {
          "base_uri": "https://localhost:8080/",
          "height": 206
        },
        "outputId": "8abd7400-693d-4ada-ad92-0fdc5d469be0"
      },
      "source": [
        "import pandas as pd\n",
        "import numpy as np\n",
        "import pandas as pd\n",
        "import matplotlib.pyplot as plt\n",
        "%matplotlib inline\n",
        "from statsmodels.tools.eval_measures import rmse\n",
        "from sklearn.preprocessing import MinMaxScaler\n",
        "from keras.preprocessing.sequence import TimeseriesGenerator\n",
        "from keras.models import Sequential\n",
        "from keras.layers import Dense\n",
        "from keras.layers import LSTM\n",
        "from keras.layers import Dropout\n",
        "data=pd.read_csv('/content/Stock-Price-Prediction-using-Keras-and-Recurrent-Neural-Networ-master/Google_Stock_Price_Train.csv')\n",
        "test=pd.read_csv('/content/Stock-Price-Prediction-using-Keras-and-Recurrent-Neural-Networ-master/Google_Stock_Price_Test.csv')\n",
        "data.head()"
      ],
      "execution_count": 31,
      "outputs": [
        {
          "output_type": "execute_result",
          "data": {
            "text/html": [
              "<div>\n",
              "<style scoped>\n",
              "    .dataframe tbody tr th:only-of-type {\n",
              "        vertical-align: middle;\n",
              "    }\n",
              "\n",
              "    .dataframe tbody tr th {\n",
              "        vertical-align: top;\n",
              "    }\n",
              "\n",
              "    .dataframe thead th {\n",
              "        text-align: right;\n",
              "    }\n",
              "</style>\n",
              "<table border=\"1\" class=\"dataframe\">\n",
              "  <thead>\n",
              "    <tr style=\"text-align: right;\">\n",
              "      <th></th>\n",
              "      <th>Date</th>\n",
              "      <th>Open</th>\n",
              "      <th>High</th>\n",
              "      <th>Low</th>\n",
              "      <th>Close</th>\n",
              "      <th>Volume</th>\n",
              "    </tr>\n",
              "  </thead>\n",
              "  <tbody>\n",
              "    <tr>\n",
              "      <th>0</th>\n",
              "      <td>1/3/2012</td>\n",
              "      <td>325.25</td>\n",
              "      <td>332.83</td>\n",
              "      <td>324.97</td>\n",
              "      <td>663.59</td>\n",
              "      <td>7,380,500</td>\n",
              "    </tr>\n",
              "    <tr>\n",
              "      <th>1</th>\n",
              "      <td>1/4/2012</td>\n",
              "      <td>331.27</td>\n",
              "      <td>333.87</td>\n",
              "      <td>329.08</td>\n",
              "      <td>666.45</td>\n",
              "      <td>5,749,400</td>\n",
              "    </tr>\n",
              "    <tr>\n",
              "      <th>2</th>\n",
              "      <td>1/5/2012</td>\n",
              "      <td>329.83</td>\n",
              "      <td>330.75</td>\n",
              "      <td>326.89</td>\n",
              "      <td>657.21</td>\n",
              "      <td>6,590,300</td>\n",
              "    </tr>\n",
              "    <tr>\n",
              "      <th>3</th>\n",
              "      <td>1/6/2012</td>\n",
              "      <td>328.34</td>\n",
              "      <td>328.77</td>\n",
              "      <td>323.68</td>\n",
              "      <td>648.24</td>\n",
              "      <td>5,405,900</td>\n",
              "    </tr>\n",
              "    <tr>\n",
              "      <th>4</th>\n",
              "      <td>1/9/2012</td>\n",
              "      <td>322.04</td>\n",
              "      <td>322.29</td>\n",
              "      <td>309.46</td>\n",
              "      <td>620.76</td>\n",
              "      <td>11,688,800</td>\n",
              "    </tr>\n",
              "  </tbody>\n",
              "</table>\n",
              "</div>"
            ],
            "text/plain": [
              "       Date    Open    High     Low   Close      Volume\n",
              "0  1/3/2012  325.25  332.83  324.97  663.59   7,380,500\n",
              "1  1/4/2012  331.27  333.87  329.08  666.45   5,749,400\n",
              "2  1/5/2012  329.83  330.75  326.89  657.21   6,590,300\n",
              "3  1/6/2012  328.34  328.77  323.68  648.24   5,405,900\n",
              "4  1/9/2012  322.04  322.29  309.46  620.76  11,688,800"
            ]
          },
          "metadata": {
            "tags": []
          },
          "execution_count": 31
        }
      ]
    },
    {
      "cell_type": "code",
      "metadata": {
        "id": "yieOyKAN6E51",
        "colab_type": "code",
        "colab": {}
      },
      "source": [
        "train=data[['Date','Open']]\n",
        "test=test[['Date','Open']]"
      ],
      "execution_count": 0,
      "outputs": []
    },
    {
      "cell_type": "code",
      "metadata": {
        "id": "pldadGyd6JnI",
        "colab_type": "code",
        "colab": {
          "base_uri": "https://localhost:8080/",
          "height": 342
        },
        "outputId": "6cfa9dde-1e25-4f7c-b3c8-789c96d21ab6"
      },
      "source": [
        "train['Date'] = pd.to_datetime(train['Date'])\n",
        "train = train.set_index(\"Date\")\n",
        "train.head()"
      ],
      "execution_count": 19,
      "outputs": [
        {
          "output_type": "stream",
          "text": [
            "/usr/local/lib/python3.6/dist-packages/ipykernel_launcher.py:1: SettingWithCopyWarning: \n",
            "A value is trying to be set on a copy of a slice from a DataFrame.\n",
            "Try using .loc[row_indexer,col_indexer] = value instead\n",
            "\n",
            "See the caveats in the documentation: http://pandas.pydata.org/pandas-docs/stable/user_guide/indexing.html#returning-a-view-versus-a-copy\n",
            "  \"\"\"Entry point for launching an IPython kernel.\n"
          ],
          "name": "stderr"
        },
        {
          "output_type": "execute_result",
          "data": {
            "text/html": [
              "<div>\n",
              "<style scoped>\n",
              "    .dataframe tbody tr th:only-of-type {\n",
              "        vertical-align: middle;\n",
              "    }\n",
              "\n",
              "    .dataframe tbody tr th {\n",
              "        vertical-align: top;\n",
              "    }\n",
              "\n",
              "    .dataframe thead th {\n",
              "        text-align: right;\n",
              "    }\n",
              "</style>\n",
              "<table border=\"1\" class=\"dataframe\">\n",
              "  <thead>\n",
              "    <tr style=\"text-align: right;\">\n",
              "      <th></th>\n",
              "      <th>Open</th>\n",
              "    </tr>\n",
              "    <tr>\n",
              "      <th>Date</th>\n",
              "      <th></th>\n",
              "    </tr>\n",
              "  </thead>\n",
              "  <tbody>\n",
              "    <tr>\n",
              "      <th>2012-01-03</th>\n",
              "      <td>325.25</td>\n",
              "    </tr>\n",
              "    <tr>\n",
              "      <th>2012-01-04</th>\n",
              "      <td>331.27</td>\n",
              "    </tr>\n",
              "    <tr>\n",
              "      <th>2012-01-05</th>\n",
              "      <td>329.83</td>\n",
              "    </tr>\n",
              "    <tr>\n",
              "      <th>2012-01-06</th>\n",
              "      <td>328.34</td>\n",
              "    </tr>\n",
              "    <tr>\n",
              "      <th>2012-01-09</th>\n",
              "      <td>322.04</td>\n",
              "    </tr>\n",
              "  </tbody>\n",
              "</table>\n",
              "</div>"
            ],
            "text/plain": [
              "              Open\n",
              "Date              \n",
              "2012-01-03  325.25\n",
              "2012-01-04  331.27\n",
              "2012-01-05  329.83\n",
              "2012-01-06  328.34\n",
              "2012-01-09  322.04"
            ]
          },
          "metadata": {
            "tags": []
          },
          "execution_count": 19
        }
      ]
    },
    {
      "cell_type": "code",
      "metadata": {
        "id": "3qsCO8Y86d4r",
        "colab_type": "code",
        "colab": {
          "base_uri": "https://localhost:8080/",
          "height": 238
        },
        "outputId": "abedc575-beca-4017-dc81-291b2964124f"
      },
      "source": [
        "test['Date'] = pd.to_datetime(test['Date'])\n",
        "test = test.set_index(\"Date\")\n",
        "test.head()"
      ],
      "execution_count": 20,
      "outputs": [
        {
          "output_type": "execute_result",
          "data": {
            "text/html": [
              "<div>\n",
              "<style scoped>\n",
              "    .dataframe tbody tr th:only-of-type {\n",
              "        vertical-align: middle;\n",
              "    }\n",
              "\n",
              "    .dataframe tbody tr th {\n",
              "        vertical-align: top;\n",
              "    }\n",
              "\n",
              "    .dataframe thead th {\n",
              "        text-align: right;\n",
              "    }\n",
              "</style>\n",
              "<table border=\"1\" class=\"dataframe\">\n",
              "  <thead>\n",
              "    <tr style=\"text-align: right;\">\n",
              "      <th></th>\n",
              "      <th>Open</th>\n",
              "    </tr>\n",
              "    <tr>\n",
              "      <th>Date</th>\n",
              "      <th></th>\n",
              "    </tr>\n",
              "  </thead>\n",
              "  <tbody>\n",
              "    <tr>\n",
              "      <th>2017-01-03</th>\n",
              "      <td>778.81</td>\n",
              "    </tr>\n",
              "    <tr>\n",
              "      <th>2017-01-04</th>\n",
              "      <td>788.36</td>\n",
              "    </tr>\n",
              "    <tr>\n",
              "      <th>2017-01-05</th>\n",
              "      <td>786.08</td>\n",
              "    </tr>\n",
              "    <tr>\n",
              "      <th>2017-01-06</th>\n",
              "      <td>795.26</td>\n",
              "    </tr>\n",
              "    <tr>\n",
              "      <th>2017-01-09</th>\n",
              "      <td>806.40</td>\n",
              "    </tr>\n",
              "  </tbody>\n",
              "</table>\n",
              "</div>"
            ],
            "text/plain": [
              "              Open\n",
              "Date              \n",
              "2017-01-03  778.81\n",
              "2017-01-04  788.36\n",
              "2017-01-05  786.08\n",
              "2017-01-06  795.26\n",
              "2017-01-09  806.40"
            ]
          },
          "metadata": {
            "tags": []
          },
          "execution_count": 20
        }
      ]
    },
    {
      "cell_type": "code",
      "metadata": {
        "id": "qMp9u7M67848",
        "colab_type": "code",
        "colab": {
          "base_uri": "https://localhost:8080/",
          "height": 34
        },
        "outputId": "d812575d-ab13-49aa-8a38-9aa5085c0d49"
      },
      "source": [
        "train.shape,test.shape"
      ],
      "execution_count": 22,
      "outputs": [
        {
          "output_type": "execute_result",
          "data": {
            "text/plain": [
              "((1258, 1), (20, 1))"
            ]
          },
          "metadata": {
            "tags": []
          },
          "execution_count": 22
        }
      ]
    },
    {
      "cell_type": "code",
      "metadata": {
        "id": "1d_Dn7827YLi",
        "colab_type": "code",
        "colab": {}
      },
      "source": [
        "scaler = MinMaxScaler()\n",
        "scaler.fit(train)\n",
        "train = scaler.transform(train)\n",
        "test = scaler.transform(test)"
      ],
      "execution_count": 0,
      "outputs": []
    },
    {
      "cell_type": "code",
      "metadata": {
        "id": "EWRomHeW7s1Y",
        "colab_type": "code",
        "colab": {}
      },
      "source": [
        "n_input = 20\n",
        "n_features = 1\n",
        "generator = TimeseriesGenerator(train, train, length=n_input, batch_size=6)"
      ],
      "execution_count": 0,
      "outputs": []
    },
    {
      "cell_type": "code",
      "metadata": {
        "id": "bKXtni5b8DYR",
        "colab_type": "code",
        "colab": {
          "base_uri": "https://localhost:8080/",
          "height": 382
        },
        "outputId": "2b418f08-2d7b-498e-f9fb-c9da8bff16fa"
      },
      "source": [
        "model = Sequential()\n",
        "model.add(LSTM(200, activation='relu', input_shape=(n_input, n_features)))\n",
        "model.add(Dropout(0.15))\n",
        "model.add(Dense(1))\n",
        "model.compile(optimizer='adam', loss='mse')\n",
        "model.fit_generator(generator,epochs=10)"
      ],
      "execution_count": 25,
      "outputs": [
        {
          "output_type": "stream",
          "text": [
            "Epoch 1/10\n",
            "207/207 [==============================] - 12s 57ms/step - loss: 0.0223\n",
            "Epoch 2/10\n",
            "207/207 [==============================] - 11s 53ms/step - loss: 0.0030\n",
            "Epoch 3/10\n",
            "207/207 [==============================] - 11s 53ms/step - loss: 0.0026\n",
            "Epoch 4/10\n",
            "207/207 [==============================] - 11s 53ms/step - loss: 0.0032\n",
            "Epoch 5/10\n",
            "207/207 [==============================] - 11s 54ms/step - loss: 0.0025\n",
            "Epoch 6/10\n",
            "207/207 [==============================] - 11s 53ms/step - loss: 0.0024\n",
            "Epoch 7/10\n",
            "207/207 [==============================] - 11s 54ms/step - loss: 0.0022\n",
            "Epoch 8/10\n",
            "207/207 [==============================] - 11s 53ms/step - loss: 0.0019\n",
            "Epoch 9/10\n",
            "207/207 [==============================] - 11s 53ms/step - loss: 0.0019\n",
            "Epoch 10/10\n",
            "207/207 [==============================] - 11s 53ms/step - loss: 0.0022\n"
          ],
          "name": "stdout"
        },
        {
          "output_type": "execute_result",
          "data": {
            "text/plain": [
              "<keras.callbacks.History at 0x7f5359c719e8>"
            ]
          },
          "metadata": {
            "tags": []
          },
          "execution_count": 25
        }
      ]
    },
    {
      "cell_type": "code",
      "metadata": {
        "id": "nGhj_W558Ldh",
        "colab_type": "code",
        "colab": {}
      },
      "source": [
        "pred_list = []\n",
        "\n",
        "batch = train[-n_input:].reshape((1, n_input, n_features))\n",
        "\n",
        "for i in range(n_input):   \n",
        "    pred_list.append(model.predict(batch)[0]) \n",
        "    batch = np.append(batch[:,1:,:],[[pred_list[i]]],axis=1)"
      ],
      "execution_count": 0,
      "outputs": []
    },
    {
      "cell_type": "code",
      "metadata": {
        "id": "QCL03PrO9NZ2",
        "colab_type": "code",
        "colab": {}
      },
      "source": [
        "df_predict = pd.DataFrame(scaler.inverse_transform(pred_list),\n",
        "                           columns=['Prediction'])"
      ],
      "execution_count": 0,
      "outputs": []
    },
    {
      "cell_type": "code",
      "metadata": {
        "id": "Inp2WyaN9dJE",
        "colab_type": "code",
        "colab": {
          "base_uri": "https://localhost:8080/",
          "height": 677
        },
        "outputId": "889c7a5f-3660-4c4a-d192-25b1ab65d110"
      },
      "source": [
        "df_predict.head(30)"
      ],
      "execution_count": 29,
      "outputs": [
        {
          "output_type": "execute_result",
          "data": {
            "text/html": [
              "<div>\n",
              "<style scoped>\n",
              "    .dataframe tbody tr th:only-of-type {\n",
              "        vertical-align: middle;\n",
              "    }\n",
              "\n",
              "    .dataframe tbody tr th {\n",
              "        vertical-align: top;\n",
              "    }\n",
              "\n",
              "    .dataframe thead th {\n",
              "        text-align: right;\n",
              "    }\n",
              "</style>\n",
              "<table border=\"1\" class=\"dataframe\">\n",
              "  <thead>\n",
              "    <tr style=\"text-align: right;\">\n",
              "      <th></th>\n",
              "      <th>Prediction</th>\n",
              "    </tr>\n",
              "  </thead>\n",
              "  <tbody>\n",
              "    <tr>\n",
              "      <th>0</th>\n",
              "      <td>766.019155</td>\n",
              "    </tr>\n",
              "    <tr>\n",
              "      <th>1</th>\n",
              "      <td>760.930616</td>\n",
              "    </tr>\n",
              "    <tr>\n",
              "      <th>2</th>\n",
              "      <td>755.754188</td>\n",
              "    </tr>\n",
              "    <tr>\n",
              "      <th>3</th>\n",
              "      <td>750.500734</td>\n",
              "    </tr>\n",
              "    <tr>\n",
              "      <th>4</th>\n",
              "      <td>745.221391</td>\n",
              "    </tr>\n",
              "    <tr>\n",
              "      <th>5</th>\n",
              "      <td>739.964348</td>\n",
              "    </tr>\n",
              "    <tr>\n",
              "      <th>6</th>\n",
              "      <td>734.765620</td>\n",
              "    </tr>\n",
              "    <tr>\n",
              "      <th>7</th>\n",
              "      <td>729.638599</td>\n",
              "    </tr>\n",
              "    <tr>\n",
              "      <th>8</th>\n",
              "      <td>724.598410</td>\n",
              "    </tr>\n",
              "    <tr>\n",
              "      <th>9</th>\n",
              "      <td>719.644668</td>\n",
              "    </tr>\n",
              "    <tr>\n",
              "      <th>10</th>\n",
              "      <td>714.777469</td>\n",
              "    </tr>\n",
              "    <tr>\n",
              "      <th>11</th>\n",
              "      <td>710.013602</td>\n",
              "    </tr>\n",
              "    <tr>\n",
              "      <th>12</th>\n",
              "      <td>705.333427</td>\n",
              "    </tr>\n",
              "    <tr>\n",
              "      <th>13</th>\n",
              "      <td>700.749567</td>\n",
              "    </tr>\n",
              "    <tr>\n",
              "      <th>14</th>\n",
              "      <td>696.258370</td>\n",
              "    </tr>\n",
              "    <tr>\n",
              "      <th>15</th>\n",
              "      <td>691.854036</td>\n",
              "    </tr>\n",
              "    <tr>\n",
              "      <th>16</th>\n",
              "      <td>687.533554</td>\n",
              "    </tr>\n",
              "    <tr>\n",
              "      <th>17</th>\n",
              "      <td>683.296218</td>\n",
              "    </tr>\n",
              "    <tr>\n",
              "      <th>18</th>\n",
              "      <td>679.143599</td>\n",
              "    </tr>\n",
              "    <tr>\n",
              "      <th>19</th>\n",
              "      <td>675.067430</td>\n",
              "    </tr>\n",
              "  </tbody>\n",
              "</table>\n",
              "</div>"
            ],
            "text/plain": [
              "    Prediction\n",
              "0   766.019155\n",
              "1   760.930616\n",
              "2   755.754188\n",
              "3   750.500734\n",
              "4   745.221391\n",
              "5   739.964348\n",
              "6   734.765620\n",
              "7   729.638599\n",
              "8   724.598410\n",
              "9   719.644668\n",
              "10  714.777469\n",
              "11  710.013602\n",
              "12  705.333427\n",
              "13  700.749567\n",
              "14  696.258370\n",
              "15  691.854036\n",
              "16  687.533554\n",
              "17  683.296218\n",
              "18  679.143599\n",
              "19  675.067430"
            ]
          },
          "metadata": {
            "tags": []
          },
          "execution_count": 29
        }
      ]
    },
    {
      "cell_type": "code",
      "metadata": {
        "id": "qcQXC3eH9lot",
        "colab_type": "code",
        "colab": {}
      },
      "source": [
        ""
      ],
      "execution_count": 0,
      "outputs": []
    }
  ]
}